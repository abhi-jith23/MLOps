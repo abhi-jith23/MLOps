{
 "cells": [
  {
   "cell_type": "markdown",
   "id": "5947f118",
   "metadata": {},
   "source": [
    "## Key Terms\n",
    "\n",
    "*    Function: A reusable block of code that performs a specific task. Defined using the def keyword.\n",
    "\n",
    "*    Arguments: Values passed into a function when calling it. Allows customizing behavior.\n",
    "\n",
    "*    Variable Arguments: Allows passing an arbitrary number of arguments to a function.\n",
    "\n",
    "*    Keyword Arguments: Arguments passed by name rather than position. Can have default values.\n",
    "\n",
    "*    Generator: A type of iterable like lists or tuples but does not store the full sequence in memory at once. Uses yield to generate one item at a time\n",
    "\n",
    "*    Generator expression: More compact syntax like list comprehensions for inline lazy generation, uses () instead of []\n",
    "\n",
    "*    Infinite sequence: Generators can be infinitely recursive/iterative to model data streams"
   ]
  },
  {
   "cell_type": "code",
   "execution_count": null,
   "id": "90d7ad93",
   "metadata": {},
   "outputs": [
    {
     "name": "stdout",
     "output_type": "stream",
     "text": [
      "10\n",
      "John Doe\n",
      "sum is  10\n",
      "Hello Adam\n",
      "None\n",
      "5\n",
      "6\n",
      "7\n",
      "8\n",
      "9\n",
      "10\n",
      "0\n",
      "1\n",
      "1\n",
      "2\n",
      "3\n",
      "5\n",
      "8\n"
     ]
    }
   ],
   "source": [
    "#function example\n",
    "def double(x):\n",
    "    '''doubles a number'''\n",
    "    return x * 2\n",
    "\n",
    "def full_name(first, last):\n",
    "    return first + \" \" + last\n",
    "\n",
    "def sum_all(*numbers):\n",
    "    sum = 0\n",
    "    for n in numbers:\n",
    "        sum += n\n",
    "    return sum\n",
    "\n",
    "def greet(name, greeting='Hello'):\n",
    "    print(greeting + ' ' + name)\n",
    "\n",
    "print(double(5))\n",
    "print(full_name('John', 'Doe'))\n",
    "print('sum is ', sum_all(1,2,3,4))\n",
    "print(greet('Adam'))\n",
    "\n",
    "#counter generator\n",
    "def counter(start=0):\n",
    "    n = start\n",
    "    while True:\n",
    "        yield n\n",
    "        n+=1\n",
    "\n",
    "for i in counter(5):\n",
    "    if i > 10:\n",
    "        break\n",
    "    print(i)\n",
    "\n",
    "\n",
    "\n"
   ]
  },
  {
   "cell_type": "code",
   "execution_count": 26,
   "id": "b133e1ab",
   "metadata": {},
   "outputs": [
    {
     "name": "stdout",
     "output_type": "stream",
     "text": [
      "0\n",
      "1\n",
      "1\n",
      "2\n",
      "3\n",
      "5\n",
      "8\n",
      "<generator object <genexpr> at 0x7e56798229b0>\n",
      "[0, 1, 4, 9, 16, 25, 36, 49, 64, 81]\n"
     ]
    }
   ],
   "source": [
    "#infinite fibonacci sequence generator\n",
    "def fib():\n",
    "    a,b=0,1\n",
    "    while True:\n",
    "        yield a\n",
    "        a,b=b,a+b\n",
    "\n",
    "for n in fib():\n",
    "    if n>10:\n",
    "        break\n",
    "    print(n)\n",
    "\n",
    "#generator expression to get squares\n",
    "nums = (x**2 for x in range(10))\n",
    "print(nums)\n",
    "print(list(nums))"
   ]
  },
  {
   "cell_type": "markdown",
   "id": "61e8cca5",
   "metadata": {},
   "source": [
    "### Function Structure and Values\n",
    "\n",
    "* **Defining functions**\n",
    "\n",
    "  * Use **`def` keyword** → `def name():`\n",
    "  * Must end definition line with `:`\n",
    "  * Function body is **indented** (commonly 4 spaces)\n",
    "  * Call function with `function_name()`\n",
    "\n",
    "* **Return vs. print**\n",
    "\n",
    "  * Functions can **do actions** (e.g., `print()`)\n",
    "  * Functions can **return values** with `return`\n",
    "  * If no `return` → Python implicitly returns **`None`**\n",
    "  * Example:\n",
    "\n",
    "    ```python\n",
    "    def simple():\n",
    "        print(\"This is a function\")\n",
    "    result = simple()  # result is None\n",
    "    ```\n",
    "\n",
    "* **Required arguments (positional)**\n",
    "\n",
    "  * Function must be called with all required arguments\n",
    "  * Example:\n",
    "\n",
    "    ```python\n",
    "    def square(number):\n",
    "        return number ** 2\n",
    "    square(4)  # returns 16\n",
    "    ```\n",
    "  * Missing argument → **TypeError: missing required positional argument**\n",
    "\n",
    "* **Optional arguments**\n",
    "\n",
    "  * Example: built-in `int()` works with **no argument** (defaults to 0) or with one\n",
    "  * Functions can be designed to allow flexibility\n",
    "\n",
    "* **Keyword arguments (with defaults)**\n",
    "\n",
    "  * Allow defaults to be set if argument not provided\n",
    "  * Example:\n",
    "\n",
    "    ```python\n",
    "    def greetings(full_name=\"John Doe\"):\n",
    "        print(\"Greetings\", full_name)\n",
    "    greetings()          # Greetings John Doe\n",
    "    greetings(\"Superman\")  # Greetings Superman\n",
    "    ```\n",
    "  * Acts as a fallback when no value is passed\n",
    "\n",
    "* **Argument order rule**\n",
    "\n",
    "  * **Positional arguments must come before keyword arguments**\n",
    "  * Otherwise → **SyntaxError**\n",
    "\n",
    "* **Mixing positional and keyword arguments**\n",
    "\n",
    "  * Example:\n",
    "\n",
    "    ```python\n",
    "    def formal_greetings(name, title=\"Dr.\"):\n",
    "        print(f\"{title} {name}\")\n",
    "    formal_greetings(\"Jenkins\")  \n",
    "    formal_greetings(\"Jenkins\", title=\"Senior\")  \n",
    "    ```\n",
    "\n",
    "* **Variable arguments (`*args`)**\n",
    "\n",
    "  * Accepts **zero or more positional arguments**\n",
    "  * Inside function, `args` is a **tuple**\n",
    "  * Example:\n",
    "\n",
    "    ```python\n",
    "    def family_members(*args):\n",
    "        for name in args:\n",
    "            print(name)\n",
    "    family_members(\"Lucy\", \"Matt\", \"Bob\")\n",
    "    ```\n",
    "  * Can also be named differently (`*names`)\n",
    "\n",
    "* **Variable keyword arguments (`**kwargs`)**\n",
    "\n",
    "  * Accepts **zero or more keyword arguments**\n",
    "  * Inside function, `kwargs` is a **dictionary**\n",
    "  * Example:\n",
    "\n",
    "    ```python\n",
    "    def stats(**kwargs):\n",
    "        for key, value in kwargs.items():\n",
    "            print(key, value)\n",
    "    stats(speed=\"slow\", active=False, weight=210)\n",
    "    ```\n",
    "  * Keys become dictionary keys, values become dictionary values\n",
    "  * Very flexible when number of arguments is unknown\n",
    "\n",
    "* **Key takeaways**\n",
    "\n",
    "  * Functions may **print**, **return**, or do both\n",
    "  * Missing required args → error\n",
    "  * Keyword arguments allow **defaults and flexibility**\n",
    "  * Positional args **must come before** keyword args\n",
    "  * `*args` (tuple) and `**kwargs` (dictionary) allow handling **variable numbers of inputs**\n"
   ]
  },
  {
   "cell_type": "code",
   "execution_count": null,
   "id": "73e4af24",
   "metadata": {},
   "outputs": [
    {
     "name": "stdout",
     "output_type": "stream",
     "text": [
      "this is a function\n"
     ]
    }
   ],
   "source": [
    "#basic function with no arguments\n",
    "\n",
    "def simple():\n",
    "    print('this is a function')\n",
    "\n",
    "result = simple()"
   ]
  },
  {
   "cell_type": "code",
   "execution_count": null,
   "id": "a9a2941d",
   "metadata": {},
   "outputs": [
    {
     "name": "stdout",
     "output_type": "stream",
     "text": [
      "this is a function\n"
     ]
    }
   ],
   "source": [
    "#return\n",
    "def simple():\n",
    "    return('this is a function')\n",
    "result = simple()\n",
    "print(result)"
   ]
  },
  {
   "cell_type": "code",
   "execution_count": 32,
   "id": "5585e4f5",
   "metadata": {},
   "outputs": [
    {
     "name": "stdout",
     "output_type": "stream",
     "text": [
      "4\n"
     ]
    }
   ],
   "source": [
    "#required arguments\n",
    "def squared(number):\n",
    "    return number**2\n",
    "\n",
    "print(squared(2))"
   ]
  },
  {
   "cell_type": "code",
   "execution_count": 33,
   "id": "01f43b2a",
   "metadata": {},
   "outputs": [
    {
     "name": "stdout",
     "output_type": "stream",
     "text": [
      "0\n",
      "10\n"
     ]
    }
   ],
   "source": [
    "#optional arguments\n",
    "print(int()) #built in function, appears in global name space in python\n",
    "print(int(10))"
   ]
  },
  {
   "cell_type": "code",
   "execution_count": 36,
   "id": "b3964043",
   "metadata": {},
   "outputs": [
    {
     "name": "stdout",
     "output_type": "stream",
     "text": [
      "Greetings John Doe!\n",
      "Greetings Batman!\n"
     ]
    }
   ],
   "source": [
    "#optional argument uses keyword argument\n",
    "def greetings(full_name = 'John Doe'):\n",
    "    #print('Greetings '+full_name)\n",
    "    print(f'Greetings {full_name}!')\n",
    "\n",
    "greetings()\n",
    "greetings('Batman')"
   ]
  },
  {
   "cell_type": "code",
   "execution_count": 35,
   "id": "6098312d",
   "metadata": {},
   "outputs": [
    {
     "name": "stdout",
     "output_type": "stream",
     "text": [
      "Greetings Dr Jenkins\n",
      "Greetings Mr Abigail\n"
     ]
    }
   ],
   "source": [
    "#arguments go before keyword arguments alwaaays\n",
    "def formal_greeting(name, title='Dr'):\n",
    "    print('Greetings', title, name)\n",
    "formal_greeting('Jenkins')\n",
    "formal_greeting('Abigail', 'Mr')"
   ]
  },
  {
   "cell_type": "code",
   "execution_count": null,
   "id": "3153d785",
   "metadata": {},
   "outputs": [
    {
     "name": "stdout",
     "output_type": "stream",
     "text": [
      "['Lucy', 'Jenkins']\n",
      "Lucy\n",
      "Jenkins\n"
     ]
    }
   ],
   "source": [
    "#this function can take 0 or more arguments\n",
    "def family_members(*args): #commonly named args when giving multiple arguments, but can be any name obv.\n",
    "    for name in args:\n",
    "        print(name)\n",
    "family_member = ['Lucy', 'Jenkins']\n",
    "family_members(family_member)\n",
    "family_members('Lucy', 'Jenkins')"
   ]
  },
  {
   "cell_type": "markdown",
   "id": "a107c8cd",
   "metadata": {},
   "source": [
    "### Exercises\n",
    "\n",
    "*    Write a function to convert temperatures from Fahrenheit to Celsius.\n",
    "\n",
    "*    Create a function that prints some output based on input.\n",
    "\n",
    "*    Define a function that returns a random number.\n",
    "\n",
    "*    Implement a function that calculates the area of various shapes depending on arguments.\n",
    "\n",
    "*    Write a reusable greeting function that takes a name input."
   ]
  },
  {
   "cell_type": "markdown",
   "id": "de809b99",
   "metadata": {},
   "source": [
    "### Generators and Decorators Exercises\n",
    "\n",
    "*    Write a basic generator function that produces the numbers from 1 to 10\n",
    "\n",
    "*    Create a generator that produces the Fibonacci sequence infinitely\n",
    "\n",
    "*    Use a generator expression to calculate the sum of squares from 1 to 100\n",
    "\n",
    "*    Implement a generator that takes a list and loops over it in reverse order\n",
    "\n",
    "*    Build a random number generator using Python's random library and generator pattern\n",
    "\n",
    "*    Create a decorator that logs function arguments\n",
    "\n",
    "*    Curry a function to specialize a logging helper\n",
    "\n",
    "*    Write a one-line lambda function that squares numbers\n",
    "\n",
    "*    Apply a rounding function to numeric columns in a DataFrame\n",
    "\n",
    "*    Time a function that processes a large file"
   ]
  },
  {
   "cell_type": "code",
   "execution_count": 39,
   "id": "e651cb46",
   "metadata": {},
   "outputs": [
    {
     "name": "stdout",
     "output_type": "stream",
     "text": [
      "<class 'generator'>\n",
      "['keylock']\n",
      "['arm_triangle']\n",
      "['kimura']\n",
      "['keylock']\n",
      "['knee_bar']\n",
      "['keylock']\n"
     ]
    }
   ],
   "source": [
    "def lazy_return_random_attacks():\n",
    "    \"\"\"Yield attacks each time\"\"\"\n",
    "    \n",
    "    # Import random library\n",
    "    import random\n",
    "    \n",
    "    # Dictionary of attacks mapped to body part\n",
    "    attacks = {\"kimura\": \"upper_body\", \n",
    "               \"straight_ankle_lock\":\"lower_body\",\n",
    "               \"arm_triangle\":\"upper_body\",\n",
    "               \"keylock\": \"upper_body\",\n",
    "               \"knee_bar\": \"lower_body\"}\n",
    "\n",
    "    # Infinite loop \n",
    "    while True:\n",
    "        # Get random attack \n",
    "        random_attack = random.choices(list(attacks.keys()))\n",
    "        \n",
    "        # Yield attack one at a time\n",
    "        yield random_attack\n",
    "        \n",
    "# Create attack generator \n",
    "attack = lazy_return_random_attacks()\n",
    "\n",
    "# Show it's a generator object\n",
    "print(type(attack)) \n",
    "\n",
    "# Print 6 random attacks\n",
    "for _ in range(6): \n",
    "    print(next(attack))"
   ]
  },
  {
   "cell_type": "markdown",
   "id": "c7b57d16",
   "metadata": {},
   "source": [
    "### Exercises\n",
    "\n",
    "*    Write a function that calculates the area of a circle from a radius.\n",
    "\n",
    "*    Define a function with three optional keyword arguments.\n",
    "\n",
    "*    Create a function with variable arguments that finds the maximum value.\n",
    "\n",
    "*    Implement a greeting function with default keyword arguments.\n",
    "\n",
    "*    Write a tax calculator function using keyword and required arguments."
   ]
  },
  {
   "cell_type": "code",
   "execution_count": null,
   "id": "299d1a39",
   "metadata": {},
   "outputs": [],
   "source": []
  },
  {
   "cell_type": "markdown",
   "id": "b38b3437",
   "metadata": {},
   "source": [
    "### Key Terms\n",
    "\n",
    "*    Class: Blueprint for creating objects. Defines attributes and methods.\n",
    "\n",
    "*    Instance: Object that is created from a class. Has access to class attributes and methods.\n",
    "\n",
    "*    Method: Function that belongs to a class. Accessed via instance or class name.\n",
    "\n",
    "*    Constructor: Special method that runs when an instance is created. Used to initialize attributes.\n",
    "\n",
    "*    Inheritance: Creating a child class from parent class. Child inherits attributes and methods."
   ]
  },
  {
   "cell_type": "code",
   "execution_count": 41,
   "id": "40c4ffff",
   "metadata": {},
   "outputs": [
    {
     "name": "stdout",
     "output_type": "stream",
     "text": [
      "4\n",
      "The BMW i8\n"
     ]
    }
   ],
   "source": [
    "#class example\n",
    "\n",
    "class Vehicle:\n",
    "    wheels = 4  #class attribute\n",
    "\n",
    "    def __init__(self, make, model):\n",
    "        self.make = make #instance attribute\n",
    "        self.model = model\n",
    "\n",
    "    def description(self):\n",
    "        return f\"The {self.make} {self.model}\"\n",
    "    \n",
    "car = Vehicle('BMW', 'i8')\n",
    "print(car.wheels)\n",
    "print(car.description())"
   ]
  },
  {
   "cell_type": "code",
   "execution_count": 43,
   "id": "bc87d79f",
   "metadata": {},
   "outputs": [
    {
     "name": "stdout",
     "output_type": "stream",
     "text": [
      "chomp\n",
      "bark!\n"
     ]
    }
   ],
   "source": [
    "#inheritance example\n",
    "\n",
    "class Pet:\n",
    "    def eat(self):\n",
    "        print('chomp')\n",
    "\n",
    "class Dog(Pet): #inherited class\n",
    "    def bark(self):\n",
    "        print('bark!')\n",
    "\n",
    "dog = Dog()\n",
    "dog.eat() #inherited method\n",
    "dog.bark()"
   ]
  },
  {
   "cell_type": "markdown",
   "id": "1afc552a",
   "metadata": {},
   "source": [
    "## Classes and Methods\n",
    "\n",
    "* **Classes in Python**\n",
    "\n",
    "  * Defined with **`class` keyword**\n",
    "  * Syntax:\n",
    "\n",
    "    ```python\n",
    "    class ClassName:\n",
    "        pass\n",
    "    ```\n",
    "  * Empty class can use `pass` as a placeholder\n",
    "  * **Instantiation**: calling class like a function creates an **instance (object)**\n",
    "\n",
    "* **Blueprint vs Instance**\n",
    "\n",
    "  * Class definition = **blueprint**\n",
    "  * Instantiation = object created from blueprint\n",
    "\n",
    "* **Special methods (dunder methods)**\n",
    "\n",
    "  * Appear with `__double_underscores__` (e.g., `__init__`)\n",
    "  * Provide built-in functionality for objects\n",
    "  * Example: `__init__` initializes attributes\n",
    "\n",
    "* **Old Python style (`class Dog(object)`)**\n",
    "\n",
    "  * Used in Python 2 to explicitly inherit from `object`\n",
    "  * Not needed in modern Python (Python 3+)\n",
    "\n",
    "* **Class attributes**\n",
    "\n",
    "  * Defined inside class but outside methods\n",
    "  * Belong to the **class itself**, not just an instance\n",
    "  * Example:\n",
    "\n",
    "    ```python\n",
    "    class Dog:\n",
    "        is_animal = True\n",
    "    ```\n",
    "  * Can be accessed as `Dog.is_animal` or `instance.is_animal`\n",
    "  * Changing it at the class level affects **all instances**\n",
    "\n",
    "* **Methods**\n",
    "\n",
    "  * Functions defined inside classes → belong to the class\n",
    "  * Example:\n",
    "\n",
    "    ```python\n",
    "    class Dog:\n",
    "        def bark(self):\n",
    "            print(\"Woof\")\n",
    "    ```\n",
    "  * Always take at least **one argument** (by convention called `self`)\n",
    "  * `self` represents the instance itself\n",
    "  * Without `self`, calling method raises **TypeError** (unexpected argument)\n",
    "  * Convention is to name it `self`, but technically any name can be used\n",
    "\n",
    "* **Instances**\n",
    "\n",
    "  * Each instantiation creates a **new object**\n",
    "  * Example:\n",
    "\n",
    "    ```python\n",
    "    rufus = Dog()\n",
    "    sparky = Dog()\n",
    "    ```\n",
    "  * Both share class attributes, but can have separate instance attributes\n",
    "\n",
    "* **Key caution**:\n",
    "\n",
    "  * Modifying class attributes affects **all instances** (existing and future)\n",
    "  * Example:\n",
    "\n",
    "    ```python\n",
    "    Dog.is_animal = False\n",
    "    rufus = Dog()\n",
    "    sparky = Dog()\n",
    "    print(rufus.is_animal)  # False\n",
    "    print(sparky.is_animal)  # False\n",
    "    ```\n",
    "\n",
    "* **Summary**:\n",
    "\n",
    "  * Use `class` keyword to define blueprints\n",
    "  * Instantiate to create objects\n",
    "  * Use **self** inside methods to access instance attributes and methods\n",
    "  * **Class attributes** are shared → modifying them propagates to all instances\n"
   ]
  },
  {
   "cell_type": "code",
   "execution_count": 44,
   "id": "7004e45c",
   "metadata": {},
   "outputs": [],
   "source": [
    "#basic class\n",
    "\n",
    "class Basic:\n",
    "    pass\n",
    "\n",
    "basic = Basic()"
   ]
  },
  {
   "cell_type": "code",
   "execution_count": 45,
   "id": "f2066bbb",
   "metadata": {},
   "outputs": [
    {
     "data": {
      "text/plain": [
       "['__class__',\n",
       " '__delattr__',\n",
       " '__dict__',\n",
       " '__dir__',\n",
       " '__doc__',\n",
       " '__eq__',\n",
       " '__format__',\n",
       " '__ge__',\n",
       " '__getattribute__',\n",
       " '__getstate__',\n",
       " '__gt__',\n",
       " '__hash__',\n",
       " '__init__',\n",
       " '__init_subclass__',\n",
       " '__le__',\n",
       " '__lt__',\n",
       " '__module__',\n",
       " '__ne__',\n",
       " '__new__',\n",
       " '__reduce__',\n",
       " '__reduce_ex__',\n",
       " '__repr__',\n",
       " '__setattr__',\n",
       " '__sizeof__',\n",
       " '__str__',\n",
       " '__subclasshook__',\n",
       " '__weakref__']"
      ]
     },
     "execution_count": 45,
     "metadata": {},
     "output_type": "execute_result"
    }
   ],
   "source": [
    "#dir() to find about what is available in a class\n",
    "dir(basic)"
   ]
  },
  {
   "cell_type": "code",
   "execution_count": null,
   "id": "dafbdeb3",
   "metadata": {},
   "outputs": [
    {
     "name": "stdout",
     "output_type": "stream",
     "text": [
      "woof!\n"
     ]
    }
   ],
   "source": [
    "class Dog:\n",
    "    is_animal = True\n",
    "\n",
    "    def bark(self): #inside a class, the first argument in a method should always be self\n",
    "        print('woof!')\n",
    "\n",
    "dog = Dog()\n",
    "dog.bark()"
   ]
  },
  {
   "cell_type": "code",
   "execution_count": 49,
   "id": "c320e2be",
   "metadata": {},
   "outputs": [
    {
     "data": {
      "text/plain": [
       "True"
      ]
     },
     "execution_count": 49,
     "metadata": {},
     "output_type": "execute_result"
    }
   ],
   "source": [
    "dog.is_animal"
   ]
  },
  {
   "cell_type": "code",
   "execution_count": 50,
   "id": "63461fd2",
   "metadata": {},
   "outputs": [
    {
     "name": "stdout",
     "output_type": "stream",
     "text": [
      "Is rufus an animal? False\n",
      "Is dog an animal? False\n"
     ]
    }
   ],
   "source": [
    "#watch out for class attribute that can change state from every instance and objects\n",
    "rufus = Dog()\n",
    "\n",
    "Dog.is_animal = False\n",
    "print('Is rufus an animal?', rufus.is_animal)\n",
    "print('Is dog an animal?', dog.is_animal)"
   ]
  },
  {
   "cell_type": "markdown",
   "id": "4d68da60",
   "metadata": {},
   "source": [
    "### Constructor\n",
    "\n",
    "* **Constructors in classes**\n",
    "\n",
    "  * Defined with **`__init__` (dunder init)** method\n",
    "  * Run automatically when a class is instantiated\n",
    "  * Always take `self` as first parameter\n",
    "\n",
    "* **Using `self`**\n",
    "\n",
    "  * `self` is used to define **instance attributes**\n",
    "  * Example:\n",
    "\n",
    "    ```python\n",
    "    class Dog:\n",
    "        def __init__(self):\n",
    "            self.is_animal = True\n",
    "    ```\n",
    "  * Unlike **class attributes**, instance attributes belong only to that instance\n",
    "  * Changing `self.is_animal` in one instance does **not** affect others\n",
    "\n",
    "* **State encapsulation**\n",
    "\n",
    "  * Instance attributes are protected within the class scope\n",
    "  * Each instance keeps its own state independent of others\n",
    "\n",
    "* **Required and optional arguments in constructors**\n",
    "\n",
    "  * Example:\n",
    "\n",
    "    ```python\n",
    "    class Animal:\n",
    "        def __init__(self, name, legs=4, barks=True):\n",
    "            self.name = name\n",
    "            self.legs = legs\n",
    "            self.barks = barks\n",
    "    ```\n",
    "  * `name` → required argument\n",
    "  * `legs`, `barks` → optional keyword arguments with defaults\n",
    "\n",
    "* **Bug with missing `self`**\n",
    "\n",
    "  * Inside methods, attributes must be accessed via **`self`**\n",
    "  * Example mistake:\n",
    "\n",
    "    ```python\n",
    "    print(f\"This is an animal named {name} and has {legs} legs\")\n",
    "    ```\n",
    "\n",
    "    → Raises **NameError: name not defined**\n",
    "  * Correct usage:\n",
    "\n",
    "    ```python\n",
    "    print(f\"This is an animal named {self.name} and has {self.legs} legs\")\n",
    "    ```\n",
    "\n",
    "* **Accessing attributes**\n",
    "\n",
    "  * From **within class methods** → use `self.attribute`\n",
    "  * From **outside class** → use `object.attribute`\n",
    "  * Example:\n",
    "\n",
    "    ```python\n",
    "    bunny = Animal(\"Buster\", legs=4, barks=False)\n",
    "    print(bunny.name)   # Buster\n",
    "    print(bunny.legs)   # 4\n",
    "    print(bunny.barks)  # False\n",
    "    ```\n",
    "\n",
    "* **Key takeaways**\n",
    "\n",
    "  * `__init__` sets initial state of an object\n",
    "  * `self` binds attributes to the instance\n",
    "  * Attributes without `self` inside methods cause **NameError**\n",
    "  * Each instance maintains its own attributes independently\n"
   ]
  },
  {
   "cell_type": "code",
   "execution_count": 52,
   "id": "f1e249bd",
   "metadata": {},
   "outputs": [
    {
     "name": "stdout",
     "output_type": "stream",
     "text": [
      "Is rufus animal? True\n",
      "Is sparky animal? True\n"
     ]
    }
   ],
   "source": [
    "#constructor in python is the special method called __init__\n",
    "\n",
    "class Dog:\n",
    "    def __init__(self):\n",
    "        self.is_animal = True\n",
    "\n",
    "#self was used again with __init__, a special method which uses self for its variables too.\n",
    "\n",
    "rufus = Dog()\n",
    "sparky = Dog()\n",
    "\n",
    "print('Is rufus animal?', rufus.is_animal)\n",
    "print('Is sparky animal?', sparky.is_animal)"
   ]
  },
  {
   "cell_type": "code",
   "execution_count": 55,
   "id": "f6709727",
   "metadata": {},
   "outputs": [
    {
     "name": "stdout",
     "output_type": "stream",
     "text": [
      "buster has 4 legs\n",
      "doesn't bark\n"
     ]
    }
   ],
   "source": [
    "#state\n",
    "'''\n",
    "once instance of class (which creates an object) is created,\n",
    "that object has a state. self is what allows these variables \n",
    "to refer to each other. But just like functions you can set \n",
    "them from the beginning. \n",
    "'''\n",
    "\n",
    "class Animal:\n",
    "    def __init__(self, name, legs=4, barks=True):\n",
    "# recap - name is required argument, legs and barks are optional arguments\n",
    "        self.name = name\n",
    "        self.legs = legs\n",
    "        self.barks = barks\n",
    "\n",
    "    def info(self):\n",
    "        print(f'{self.name} has {self.legs} legs')\n",
    "        if self.barks:\n",
    "            print('this one barks')\n",
    "        else:\n",
    "            print(\"doesn't bark\")\n",
    "\n",
    "bunny = Animal('buster', barks=False)\n",
    "nonny = Animal('rufus')\n",
    "bunny.info()\n",
    "\n"
   ]
  },
  {
   "cell_type": "code",
   "execution_count": 56,
   "id": "ff742759",
   "metadata": {},
   "outputs": [
    {
     "name": "stdout",
     "output_type": "stream",
     "text": [
      "buster\n",
      "4\n",
      "False\n",
      "True\n"
     ]
    }
   ],
   "source": [
    "print(bunny.name)\n",
    "print(bunny.legs)\n",
    "print(bunny.barks)\n",
    "print(nonny.barks)"
   ]
  },
  {
   "cell_type": "markdown",
   "id": "1e8e0985",
   "metadata": {},
   "source": [
    "#### Adding Methods\n",
    "\n",
    "* **Methods in classes**\n",
    "\n",
    "  * Methods are functions defined inside a class\n",
    "  * `__init__` is also a method (special constructor method)\n",
    "  * Always take `self` as the first parameter\n",
    "\n",
    "* **Example: Budget class**\n",
    "\n",
    "  * Has `__init__` method to set initial budget\n",
    "  * Has `expense(amount)` method: subtracts amount from budget and reports result\n",
    "  * Example:\n",
    "\n",
    "    ```python\n",
    "    class Budget:\n",
    "        def __init__(self, budget):\n",
    "            self.budget = budget\n",
    "        \n",
    "        def expense(self, amount):\n",
    "            self.budget -= amount\n",
    "            print(\"Budget left =\", self.budget)\n",
    "    ```\n",
    "  * Calling `expense(23)` after budget of 100 → Budget left = 77\n",
    "\n",
    "* **Separating concerns with multiple methods**\n",
    "\n",
    "  * Extract functionality into separate methods for clarity\n",
    "  * Example: move reporting into `report()` method\n",
    "  * Call methods from other methods using **`self.method_name()`**\n",
    "  * Example:\n",
    "\n",
    "    ```python\n",
    "    def expense(self, amount):\n",
    "        self.budget -= amount\n",
    "        self.report()\n",
    "\n",
    "    def report(self):\n",
    "        print(\"Budget left =\", self.budget)\n",
    "    ```\n",
    "\n",
    "* **Accessing attributes**\n",
    "\n",
    "  * Inside class: `self.budget`\n",
    "  * Outside class: `object.budget`\n",
    "\n",
    "* **Methods with arguments and keyword arguments**\n",
    "\n",
    "  * Methods can accept **positional arguments** and **keyword arguments** just like functions\n",
    "  * Example:\n",
    "\n",
    "    ```python\n",
    "    def report(self, currency=\"$\"):\n",
    "        print(f\"Budget left = {currency}{self.budget}\")\n",
    "    ```\n",
    "  * Allows flexible reporting with different formats (`\"$\"`, `\"PER$\"`, etc.)\n",
    "\n",
    "* **Rules for arguments**\n",
    "\n",
    "  * Same as functions: positional arguments first, then keyword arguments\n",
    "  * Can also use `*args` and `**kwargs` in methods\n",
    "\n",
    "* **Key takeaway**\n",
    "\n",
    "  * Methods behave like functions but are bound to a class instance\n",
    "  * Can call one method from another via **`self`**\n",
    "  * Support arguments, keyword arguments, variable arguments, just like normal functions\n"
   ]
  },
  {
   "cell_type": "code",
   "execution_count": 61,
   "id": "616cf82e",
   "metadata": {},
   "outputs": [
    {
     "name": "stdout",
     "output_type": "stream",
     "text": [
      "Budget left:  80\n"
     ]
    }
   ],
   "source": [
    "#class with two methods\n",
    "\n",
    "class Budget:\n",
    "\n",
    "    def __init__(self, budget):\n",
    "        self.budget = budget\n",
    "    \n",
    "    def expense(self, amount):\n",
    "        self.budget = self.budget - amount\n",
    "        print('Budget left: ', self.budget)\n",
    "\n",
    "budget = Budget(100)\n",
    "budget.expense(20)"
   ]
  },
  {
   "cell_type": "code",
   "execution_count": 67,
   "id": "bf5ead1e",
   "metadata": {},
   "outputs": [
    {
     "name": "stdout",
     "output_type": "stream",
     "text": [
      "Budget left:  $ 80\n",
      "Budget left:  PER $ 80\n"
     ]
    }
   ],
   "source": [
    "#class with two methods\n",
    "\n",
    "class Budget:\n",
    "\n",
    "    def __init__(self, budget):\n",
    "        self.budget = budget\n",
    "    \n",
    "    def expense(self, amount):\n",
    "        self.budget = self.budget - amount\n",
    "        self.report()\n",
    "\n",
    "    def report(self, currency='$'):\n",
    "        print('Budget left: ', currency, self.budget)\n",
    "\n",
    "budget = Budget(100)\n",
    "budget.expense(20)\n",
    "#budget\n",
    "budget.report('PER $')"
   ]
  },
  {
   "cell_type": "markdown",
   "id": "1a7b237f",
   "metadata": {},
   "source": [
    "#### Class inheritance\n",
    "\n",
    "* **Class inheritance**\n",
    "\n",
    "  * Mechanism where a **child class** inherits attributes and methods from a **parent class**\n",
    "  * Child class can use methods/attributes defined in the parent even if not explicitly written in the child\n",
    "\n",
    "* **Parent class example**\n",
    "\n",
    "  ```python\n",
    "  class Pet:\n",
    "      def eat(self):\n",
    "          self.food -= self.appetite\n",
    "  ```\n",
    "\n",
    "  * `eat()` method assumes `self.food` and `self.appetite` exist\n",
    "  * If instantiated directly without defining those attributes → **AttributeError**\n",
    "\n",
    "* **Child classes inheriting from parent**\n",
    "\n",
    "  ```python\n",
    "  class Parakeet(Pet):\n",
    "      def __init__(self):\n",
    "          self.food = 100\n",
    "          self.appetite = 1\n",
    "\n",
    "  class Dog(Pet):\n",
    "      def __init__(self):\n",
    "          self.food = 400\n",
    "          self.appetite = 7\n",
    "  ```\n",
    "\n",
    "  * `Parakeet` and `Dog` both inherit `eat()` from `Pet`\n",
    "  * Their constructors define `food` and `appetite` attributes\n",
    "  * Example:\n",
    "\n",
    "    * `perry = Parakeet(); perry.eat()` → food goes from 100 → 99\n",
    "    * `rufus = Dog(); rufus.eat()` → food goes from 400 → 393\n",
    "\n",
    "* **Why inheritance works**\n",
    "\n",
    "  * `Dog` and `Parakeet` don’t explicitly define `eat()`\n",
    "  * They **inherit** `eat()` from `Pet`\n",
    "\n",
    "* **Inspecting inheritance**\n",
    "\n",
    "  * Use built-in **`dir(object)`** to see available attributes and methods\n",
    "  * For `perry = Parakeet()`, `dir(perry)` shows:\n",
    "\n",
    "    * `food`\n",
    "    * `appetite`\n",
    "    * inherited `eat()` method\n",
    "    * other Python default methods (dunder methods)\n",
    "\n",
    "* **Real-world use case: unit testing**\n",
    "\n",
    "  * Python’s `unittest` framework relies on inheritance\n",
    "  * Tests are written as classes inheriting from `unittest.TestCase`\n",
    "  * Inheriting gives access to many methods (`assertEqual`, `assertTrue`, etc.) without explicitly defining them\n",
    "\n",
    "* **Key points**\n",
    "\n",
    "  * Inheritance lets child classes reuse and extend parent functionality\n",
    "  * Child classes can define attributes or override methods to customize behavior\n",
    "  * Inherited classes may include many **additional methods/attributes** from parent class\n",
    "  * Use **mindfully**, since inheritance can introduce unexpected complexity and behavior\n"
   ]
  },
  {
   "cell_type": "code",
   "execution_count": 70,
   "id": "3799ae58",
   "metadata": {},
   "outputs": [
    {
     "name": "stdout",
     "output_type": "stream",
     "text": [
      "Ate 1 of food, have 99 left\n",
      "Ate 7 of food, have 393 left\n"
     ]
    }
   ],
   "source": [
    "#base class for house pets\n",
    "\n",
    "class PET:\n",
    "    def eat(self):\n",
    "        self.food = self.food - self.appetite\n",
    "        print(f\"Ate {self.appetite} of food, have {self.food} left\")\n",
    "\n",
    "#child classes for pets like parakeet or dog\n",
    "\n",
    "class Parakeet(PET):\n",
    "    def __init__(self):\n",
    "        self.food = 100\n",
    "        self.appetite = 1\n",
    "\n",
    "class Dog(PET):\n",
    "    def __init__(self):\n",
    "        self.food = 400\n",
    "        self.appetite = 7\n",
    "\n",
    "perry = Parakeet()\n",
    "rufus = Dog()\n",
    "\n",
    "perry.eat()\n",
    "rufus.eat()"
   ]
  },
  {
   "cell_type": "code",
   "execution_count": null,
   "id": "5e132812",
   "metadata": {},
   "outputs": [
    {
     "name": "stdout",
     "output_type": "stream",
     "text": [
      "appetite\n",
      "eat\n",
      "food\n"
     ]
    }
   ],
   "source": [
    "#demonstrate how other classes have methods that automatically appear\n",
    "\n",
    "for attribute in dir(rufus):\n",
    "    if attribute.startswith('_'):\n",
    "        continue\n",
    "    print(attribute)"
   ]
  },
  {
   "cell_type": "code",
   "execution_count": 74,
   "id": "477ab658",
   "metadata": {},
   "outputs": [
    {
     "name": "stdout",
     "output_type": "stream",
     "text": [
      "addClassCleanup\n",
      "addCleanup\n",
      "addTypeEqualityFunc\n",
      "assertAlmostEqual\n",
      "assertCountEqual\n",
      "assertDictEqual\n",
      "assertEqual\n",
      "assertFalse\n",
      "assertGreater\n",
      "assertGreaterEqual\n",
      "assertIn\n",
      "assertIs\n",
      "assertIsInstance\n",
      "assertIsNone\n",
      "assertIsNot\n",
      "assertIsNotNone\n",
      "assertLess\n",
      "assertLessEqual\n",
      "assertListEqual\n",
      "assertLogs\n",
      "assertMultiLineEqual\n",
      "assertNoLogs\n",
      "assertNotAlmostEqual\n",
      "assertNotEqual\n",
      "assertNotIn\n",
      "assertNotIsInstance\n",
      "assertNotRegex\n",
      "assertRaises\n",
      "assertRaisesRegex\n",
      "assertRegex\n",
      "assertSequenceEqual\n",
      "assertSetEqual\n",
      "assertTrue\n",
      "assertTupleEqual\n",
      "assertWarns\n",
      "assertWarnsRegex\n",
      "countTestCases\n",
      "debug\n",
      "defaultTestResult\n",
      "doClassCleanups\n",
      "doCleanups\n",
      "enterClassContext\n",
      "enterContext\n",
      "fail\n",
      "failureException\n",
      "id\n",
      "longMessage\n",
      "maxDiff\n",
      "run\n",
      "setUp\n",
      "setUpClass\n",
      "shortDescription\n",
      "skipTest\n",
      "subTest\n",
      "tearDown\n",
      "tearDownClass\n"
     ]
    }
   ],
   "source": [
    "# unittest is used for TestCase as real world example \n",
    " \n",
    "import unittest\n",
    "\n",
    "class Testing(unittest.TestCase):\n",
    "    pass\n",
    "\n",
    "tests = Testing()\n",
    "\n",
    "\n",
    "#viewing all the attributes\n",
    "for attribute in dir(tests):\n",
    "    if attribute.startswith('_'):\n",
    "        continue\n",
    "    print(attribute)"
   ]
  },
  {
   "cell_type": "markdown",
   "id": "4900def9",
   "metadata": {},
   "source": [
    "### Exercises\n",
    "\n",
    "*    Create 3 classes demonstrating single inheritance\n",
    "\n",
    "*    Override a method inherited from a parent class\n",
    "\n",
    "*    Make a class that inherits from 2 parent classes\n",
    "\n",
    "*    Use name mangling to create a private class variable\n",
    "\n",
    " *   Analyze method resolution order for a multiple inheritance example"
   ]
  },
  {
   "cell_type": "markdown",
   "id": "c6c0de37",
   "metadata": {},
   "source": [
    "#### Recap\n",
    "\n",
    "1. methods\n",
    "2. self\n",
    "3. constructor\n",
    "4. class attributes"
   ]
  },
  {
   "cell_type": "code",
   "execution_count": 79,
   "id": "70116a20",
   "metadata": {},
   "outputs": [
    {
     "name": "stdout",
     "output_type": "stream",
     "text": [
      "Conor McGregor\n",
      "I'm the best\n",
      "His weightclass is Middleweight\n",
      "Testing child class calling parent method: Middleweight\n"
     ]
    }
   ],
   "source": [
    "#sandbox\n",
    "\n",
    "#class\n",
    "class UFC:\n",
    "    def weight_class(self, weight): #method\n",
    "        if weight<60:\n",
    "            return 'Lightweight'\n",
    "        elif 60<=weight<80:\n",
    "            return 'Middleweight'\n",
    "        else:\n",
    "            return 'Heavyweight'\n",
    "\n",
    "class Fighter(UFC): #inherited class\n",
    "\n",
    "    def __init__(self): #constructor\n",
    "        self.name = 'Conor McGregor' #this is the attribute\n",
    "\n",
    "    def trash_talk(self): #method\n",
    "        print(\"I'm the best\")\n",
    "\n",
    "    def redundant(self, weight):\n",
    "        return super().weight_class(weight)\n",
    "\n",
    "\n",
    "fighter = Fighter() #object\n",
    "print(fighter.name)\n",
    "fighter.trash_talk() #calling method with class object\n",
    "print(f\"His weightclass is {fighter.weight_class(75)}\")\n",
    "print(f\"Testing child class calling parent method: {fighter.redundant(75)}\")"
   ]
  },
  {
   "cell_type": "markdown",
   "id": "912f367a",
   "metadata": {},
   "source": [
    "### Exercises\n",
    "\n",
    "*    Create a class hierarchy for different vehicle types.\n",
    "\n",
    "*    Define a method that takes both regular and keyword arguments.\n",
    "\n",
    "*    Override a method of a parent class in a child class.\n",
    "\n",
    "*    Print all attributes of a class instance.\n",
    "\n",
    "*    Create a class without writing any methods."
   ]
  },
  {
   "cell_type": "markdown",
   "id": "7b13536e",
   "metadata": {},
   "source": [
    "### Key Terms\n",
    "\n",
    "*    Module - A Python file containing reusable code like functions or classes\n",
    "\n",
    "*    Import - Retrieves modules making their contents available in current namespace\n",
    "\n",
    "*    Virtualenv - Self-contained directory housing isolated Python packages/dependencies\n",
    "\n",
    "*    Activation - Configures shell to use virtualenv's dedicated Python interpreter\n",
    "\n",
    "*    Pip - Python tool for installing/managing packages and dependencies"
   ]
  },
  {
   "cell_type": "markdown",
   "id": "4f770835",
   "metadata": {},
   "source": [
    "* **Python modules**\n",
    "\n",
    "  * Any file ending in `.py` is a **module**\n",
    "  * Modules help **organize code** (instead of keeping everything in one big file)\n",
    "  * Analogy: like separating clothes into different drawers rather than dumping everything in one\n",
    "  * Example: project with files → `engine.py`, `exceptions.py`, `main.py`, `network.py`\n",
    "  * Use modules to group related code (e.g., custom exceptions inside `exceptions.py`)\n",
    "\n",
    "* **Python imports**\n",
    "\n",
    "  * Importing allows using functions, classes, or variables defined in other modules\n",
    "  * **Basic import**:\n",
    "\n",
    "    ```python\n",
    "    import utils\n",
    "    utils.str_to_bool(\"True\")\n",
    "    utils.str_to_int(\"5\")\n",
    "    ```\n",
    "\n",
    "    * Access with `module_name.function_name`\n",
    "  * **Selective import**:\n",
    "\n",
    "    ```python\n",
    "    from utils import str_to_bool, str_to_int\n",
    "    str_to_bool(\"True\")\n",
    "    str_to_int(\"5\")\n",
    "    ```\n",
    "\n",
    "    * Functions are imported directly into current scope (no prefix required)\n",
    "\n",
    "* **Import paths**\n",
    "\n",
    "  * If the module is in the same directory, Python finds it automatically\n",
    "  * If in different directories, you must configure paths or install as a dependency\n",
    "\n",
    "* **Directories as packages**\n",
    "\n",
    "  * A directory with an **`__init__.py`** file is treated as a **package**\n",
    "  * Example:\n",
    "\n",
    "    ```\n",
    "    program/\n",
    "        __init__.py\n",
    "        items.py\n",
    "    ```\n",
    "  * Allows import like:\n",
    "\n",
    "    ```python\n",
    "    import program.items\n",
    "    program.items.some_function()\n",
    "    ```\n",
    "\n",
    "* **Role of `__init__.py`**\n",
    "\n",
    "  * Signals to Python that the directory should be treated as a package\n",
    "  * Without it, you cannot import submodules in the same way\n",
    "  * To make submodules available at package level, you must expose them in `__init__.py`\n",
    "\n",
    "* **Key points**\n",
    "\n",
    "  * `.py` file = module\n",
    "  * Directory + `__init__.py` = package\n",
    "  * Import options: whole module (`import module`) vs. specific items (`from module import item`)\n",
    "  * Accessing imported items: `module.item` or directly by name depending on import style\n"
   ]
  },
  {
   "cell_type": "code",
   "execution_count": null,
   "id": "22837688",
   "metadata": {},
   "outputs": [
    {
     "data": {
      "text/plain": [
       "'this is a function in a module'"
      ]
     },
     "execution_count": 84,
     "metadata": {},
     "output_type": "execute_result"
    }
   ],
   "source": [
    "''' \n",
    "the __init__.py file inside programs folder is solely available\n",
    "because you need it if you want to import any submodule from that\n",
    "directory.\n",
    "'''\n",
    "\n",
    "import program.items\n",
    "\n",
    "program.items.some_function()"
   ]
  },
  {
   "cell_type": "markdown",
   "id": "6e8a606b",
   "metadata": {},
   "source": [
    "* **Docstring**\n",
    "\n",
    "  * Triple quotes at the top of a script (`\"\"\" ... \"\"\"`)\n",
    "  * Purely text, explains what the script does\n",
    "  * Commonly used for documentation, cleaner than comments\n",
    "\n",
    "* **Main function**\n",
    "\n",
    "  * Script defines a `main()` function to contain logic\n",
    "  * Prints a message and processes arguments\n",
    "\n",
    "* **`if __name__ == \"__main__\":`**\n",
    "\n",
    "  * Special snippet that runs only when script is executed directly\n",
    "  * Prevents code from running when the file is **imported as a module**\n",
    "  * Ensures no unwanted side effects during imports\n",
    "  * Without it, functions would execute immediately on import\n",
    "\n",
    "* **Running a script**\n",
    "\n",
    "  * Executed via terminal:\n",
    "\n",
    "    ```bash\n",
    "    python script.py\n",
    "    ```\n",
    "  * First argument (`sys.argv[0]`) is always the script name (`script.py`)\n",
    "  * Additional arguments passed on command line are available in `sys.argv`\n",
    "\n",
    "* **Using `sys.argv`**\n",
    "\n",
    "  * `sys.argv` is a **list of strings** representing command-line arguments\n",
    "  * Example:\n",
    "\n",
    "    ```bash\n",
    "    python script.py help key=value\n",
    "    ```\n",
    "\n",
    "    → `sys.argv = [\"script.py\", \"help\", \"key=value\"]`\n",
    "\n",
    "* **Quick debugging trick**\n",
    "\n",
    "  * Print `type(sys.argv)` → confirms it’s a list\n",
    "  * Loop through `sys.argv` to see each argument\n",
    "\n",
    "* **Use cases**\n",
    "\n",
    "  * Foundation for building **command-line tools**\n",
    "  * Quick and simple way to process arguments without libraries\n",
    "  * For complex parsing (flags, key-value, options) → use libraries/frameworks (`argparse`, `click`, `typer`)\n",
    "\n",
    "* **Key takeaway**\n",
    "\n",
    "  * `sys.argv` provides raw command-line arguments as a list\n",
    "  * `if __name__ == \"__main__\":` keeps scripts safe for both running and importing\n"
   ]
  },
  {
   "cell_type": "code",
   "execution_count": null,
   "id": "3beee049",
   "metadata": {},
   "outputs": [],
   "source": [
    "'''\n",
    "No need to execute this cell.\n",
    "\n",
    "This is a python script meant to be run from the terminal.\n",
    "\n",
    "It uses 'if__name__' construct at the end of the script to hook\n",
    "into any function. In this case, it connects to the main() function.\n",
    "\n",
    "The script doesn't do much except report the arguments being passed\n",
    "into the script. It should serve as the foundation to create a more\n",
    "powerful script. \n",
    "'''\n",
    "\n",
    "import sys\n",
    "\n",
    "def main(arguments):\n",
    "    print(\"This is the main function, and it has access to the following variables:\")\n",
    "    for argument in arguments:\n",
    "        print(argument)\n",
    "\n",
    "if __name__ == '__main__':\n",
    "    main(sys.argv)\n",
    "\n",
    "'''\n",
    "You execute by running 'python script.py'\n",
    "You can pass any number of arguments and it will display all of \n",
    "them. Eg: argument --help -f key=value\n",
    "'''"
   ]
  },
  {
   "cell_type": "markdown",
   "id": "7cd4ae20",
   "metadata": {},
   "source": [
    "### Exercises    \n",
    "    \n",
    "*    Create a simple math quiz game with conditionals\n",
    "\n",
    "*    Build a password strength checker using string methods\n",
    "\n",
    "*    Implement linear search to find items in a list\n",
    "\n",
    "*    Use dictionaries and loops to count word frequencies\n",
    "\n",
    "*    Handle errors gracefully when reading/writing files"
   ]
  },
  {
   "cell_type": "markdown",
   "id": "8d9b3d74",
   "metadata": {},
   "source": [
    "## Understanding 3rd Party Packaging\n",
    "\n",
    "#### Summary\n",
    "\n",
    "This template (https://github.com/nogibjj/mlops-template?tab=readme-ov-file) provides a starting point for ML/DL projects leveraging GPU acceleration. It uses mainstream Python tools like virtualenv, pip, Docker, PyTorch, and TensorFlow to configure a development environment with GPU access, isolate dependencies, and test GPU training.\n",
    "\n",
    "#### Top 4 Key Points\n",
    "\n",
    "*    Check virtualenv is active to manage packages separately\n",
    "\n",
    "*    Dockerfiles included to build GPU container images\n",
    "\n",
    "*    PyTorch and TensorFlow tests validate GPU works\n",
    "\n",
    "*    Tools like BentoML and Hugging Face integrate nicely\n",
    "\n",
    "#### 5 Reflection Questions\n",
    "\n",
    "*    How could a Makefile streamline training\n",
    "\n",
    "*     model experiments?\n",
    "\n",
    "*    Why isolate Python dependencies in virtualenvs and containers?\n",
    "\n",
    "*    What role do GitHub Actions play in an ML ops pipeline?\n",
    "\n",
    "*    How could BentoML serve models for low-latency requests?\n",
    "\n",
    "*    When would fine-tuning a Hugging Face model be preferred over training from scratch?\n",
    "\n",
    "#### 5 Challenge Exercises\n",
    "\n",
    "*    Adjust hyperparameters in the PyTorch GPU test code\n",
    "\n",
    "*    Log GPU usage with nvidia-smi during model training\n",
    "\n",
    "*    Build a Docker container to run TensorFlow code\n",
    "\n",
    "*    Serve a scikit-learn model with BentoML locally\n",
    "\n",
    "*    Fine-tune DistilBERT model on a small text corpus\n",
    "\n"
   ]
  },
  {
   "cell_type": "markdown",
   "id": "256c3072",
   "metadata": {},
   "source": [
    "### Exercises\n",
    "\n",
    "*    Build a math flashcard quiz to practice operators\n",
    "\n",
    "*    Create a grocery list app with CRUD list operations\n",
    "\n",
    "*    Implement a word guessing game loop with conditionals\n",
    "\n",
    "*    Write a password checker function assessing string strength\n",
    "\n",
    "*    Handle I/O errors gracefully when reading/writing files"
   ]
  },
  {
   "cell_type": "code",
   "execution_count": null,
   "id": "4066e411",
   "metadata": {},
   "outputs": [],
   "source": []
  }
 ],
 "metadata": {
  "kernelspec": {
   "display_name": "ml_venv",
   "language": "python",
   "name": "python3"
  },
  "language_info": {
   "codemirror_mode": {
    "name": "ipython",
    "version": 3
   },
   "file_extension": ".py",
   "mimetype": "text/x-python",
   "name": "python",
   "nbconvert_exporter": "python",
   "pygments_lexer": "ipython3",
   "version": "3.12.3"
  }
 },
 "nbformat": 4,
 "nbformat_minor": 5
}
