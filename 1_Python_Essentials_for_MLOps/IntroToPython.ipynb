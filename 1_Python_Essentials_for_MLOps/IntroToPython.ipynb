{
 "cells": [
  {
   "cell_type": "markdown",
   "id": "d7e19616",
   "metadata": {},
   "source": [
    "# Python Essentials for Machine Learning Operations"
   ]
  },
  {
   "cell_type": "markdown",
   "id": "e357028a",
   "metadata": {},
   "source": [
    "### Meet your Course Instructor\n",
    "\n",
    "* Course on Python for MLOps\n",
    "* Basics in Python: variables, assignments, loops, logical conditions (if and else)\n",
    "* Functions\n",
    "* Classes\n",
    "* Data exploration and data analysis with Pandas and NumPy\n",
    "* Building command-line tools\n",
    "* Putting foundations of Python together into powerful command-line tools\n",
    "* Python is essential for interacting with APIs and other MLOps related tasks\n",
    "* Focus on creating command-line tools for automation\n",
    "* Automating processes currently done manually by engineers or teams\n",
    "* Automation of checks, processes, steps, pipelines, deployments\n",
    "* Automating packaging of machine learning models\n",
    "* End of course outcome: sufficient Python knowledge to build powerful automation\n",
    "* Goal: confidence in applying Python concepts in day-to-day operations\n"
   ]
  },
  {
   "cell_type": "markdown",
   "id": "80471721",
   "metadata": {},
   "source": [
    "### Key Terms\n",
    "\n",
    "* Variable - A named location in memory that stores a value. Variables don’t have an explicit type and can be reassigned.\n",
    "* Assignment - The = operator sets a variable name to a value.\n",
    "* f-String - Formatted string literals that allow embedded expressions using f” “ syntax.\n",
    "* Integer - Positive or negative whole number with no decimal point. Supports math operations.\n",
    "* Float - Number with a decimal point. Common for measurements and math with fractions.\n",
    "* Boolean - A True or False value often used for logic.\n",
    "* None - Represents no value assigned. Commonly seen as a default return value.\n",
    "* If - Starts a conditional block that executes if the condition is True.\n",
    "* Else - Adds a block that executes if the prior if condition was False.\n",
    "* Exception - Errors that disrupt normal program flow. Used to catch and handle errors.\n",
    "* Try/Except - Catch exceptions in the except block after first trying the code in the try block."
   ]
  },
  {
   "cell_type": "code",
   "execution_count": 1,
   "id": "dfc442be",
   "metadata": {},
   "outputs": [
    {
     "name": "stdout",
     "output_type": "stream",
     "text": [
      "Hello jane\n",
      "condition true\n",
      "cannot divide by 0\n"
     ]
    }
   ],
   "source": [
    "#variable\n",
    "name = \"john\"\n",
    "\n",
    "#reassign variable\n",
    "name = \"jane\"\n",
    "\n",
    "#f-string prints variable\n",
    "print(f\"Hello {name}\")\n",
    "\n",
    "#integer\n",
    "num=10\n",
    "\n",
    "#float\n",
    "dec=10.5\n",
    "\n",
    "#Boolean\n",
    "is_true=True\n",
    "\n",
    "#none\n",
    "empty=None\n",
    "\n",
    "# if condition evaluates boolean\n",
    "if is_true:\n",
    "    print(\"condition true\")\n",
    "else:\n",
    "    print(\"condition false\")\n",
    "\n",
    "# try block attempts this code\n",
    "try:\n",
    "    result = num / 0\n",
    "\n",
    "#except catches zeroDivisionError\n",
    "except ZeroDivisionError as e:\n",
    "    print(\"cannot divide by 0\")\n",
    "\n",
    "    "
   ]
  },
  {
   "cell_type": "markdown",
   "id": "860237c9",
   "metadata": {},
   "source": [
    "### Variables and Assignments\n",
    "\n",
    "* Working with variables and assignments\n",
    "* Python is not a strongly typed language\n",
    "* Variables can be assigned without worrying about the values\n",
    "* Using Jupyter Notebooks throughout the course\n",
    "* Assignment works with a name, single equals, and a value\n",
    "* Values can be strings, floats, integers, etc.\n",
    "* Lack of type-checking can cause problems (e.g., `\"10000\"` as a string vs. number)\n",
    "* Single quotes in representation indicate a string\n",
    "* Variables can be reassigned freely\n",
    "* Typing the variable name outputs its value\n",
    "* `print` can be used to check variable values\n",
    "* `print` with commas gives separated output with spacing\n",
    "* Without commas, concatenation may remove spacing (e.g., `name + last_name`)\n",
    "* New variables can be created from existing variables\n",
    "* Example: `full_name` created using f-strings\n",
    "* Copying variables stores the value at the moment of assignment\n",
    "* Reassigning original variable does not change the copied one\n",
    "* Example: `new_name = name` → later reassign `name` → `new_name` keeps old value\n",
    "* Comma-separated values in `print` give nice spacing\n",
    "* Concatenation with `+` removes spacing unless explicitly added\n"
   ]
  },
  {
   "cell_type": "code",
   "execution_count": 2,
   "id": "4c1c647c",
   "metadata": {},
   "outputs": [],
   "source": [
    "# assignning\n",
    "name = \"Alfredo\"\n",
    "last_name = \"Deza\""
   ]
  },
  {
   "cell_type": "code",
   "execution_count": 3,
   "id": "2a2961dd",
   "metadata": {},
   "outputs": [],
   "source": [
    "# no need to worry about type of value\n",
    "height = 10000\n",
    "distance = 1.3\n",
    "date = \"Tuesday\""
   ]
  },
  {
   "cell_type": "code",
   "execution_count": 4,
   "id": "dc1db543",
   "metadata": {},
   "outputs": [
    {
     "data": {
      "text/plain": [
       "'10000'"
      ]
     },
     "execution_count": 4,
     "metadata": {},
     "output_type": "execute_result"
    }
   ],
   "source": [
    "# lack of type checking can make things tricky\n",
    "height = \"10000\"\n",
    "height # this prints string, not int"
   ]
  },
  {
   "cell_type": "code",
   "execution_count": 5,
   "id": "1375bcf9",
   "metadata": {},
   "outputs": [
    {
     "data": {
      "text/plain": [
       "'Bega'"
      ]
     },
     "execution_count": 5,
     "metadata": {},
     "output_type": "execute_result"
    }
   ],
   "source": [
    "# reassigning variables\n",
    "name = \"Bega\"\n",
    "name"
   ]
  },
  {
   "cell_type": "code",
   "execution_count": 6,
   "id": "051e1398",
   "metadata": {},
   "outputs": [
    {
     "name": "stdout",
     "output_type": "stream",
     "text": [
      "Bega Deza\n"
     ]
    }
   ],
   "source": [
    "# using print() with variables\n",
    "print(name, last_name)"
   ]
  },
  {
   "cell_type": "code",
   "execution_count": 7,
   "id": "da485662",
   "metadata": {},
   "outputs": [
    {
     "data": {
      "text/plain": [
       "'Bega Deza'"
      ]
     },
     "execution_count": 7,
     "metadata": {},
     "output_type": "execute_result"
    }
   ],
   "source": [
    "#create new variables from existing variables\n",
    "#watch out with strings\n",
    "#full name = name + last_name\n",
    "full_name = f\"{name} {last_name}\"\n",
    "full_name"
   ]
  },
  {
   "cell_type": "code",
   "execution_count": 8,
   "id": "04ad888b",
   "metadata": {},
   "outputs": [
    {
     "name": "stdout",
     "output_type": "stream",
     "text": [
      "Bega\n",
      "Bega\n",
      "alredo\n"
     ]
    }
   ],
   "source": [
    "#watch out for copying variables\n",
    "new_name = name\n",
    "print(new_name)\n",
    "name = \"alredo\" #doesn't affect new_name\n",
    "print(new_name)\n",
    "print(name)\n"
   ]
  },
  {
   "cell_type": "code",
   "execution_count": 9,
   "id": "26afe251",
   "metadata": {},
   "outputs": [
    {
     "name": "stdout",
     "output_type": "stream",
     "text": [
      "alredo Deza is a person\n"
     ]
    }
   ],
   "source": [
    "#print() function helps display values\n",
    "#it adds separationw hen using commas\n",
    "print(name, last_name, \"is a person\")"
   ]
  },
  {
   "cell_type": "markdown",
   "id": "357b6f77",
   "metadata": {},
   "source": [
    "### Working with different Data Types\n",
    "\n",
    "* Common Python types: **strings, integers, floats, booleans, None**\n",
    "\n",
    "* **Strings**\n",
    "\n",
    "  * Strings represent text values\n",
    "  * Can use **single quotes**, **double quotes**, or **triple quotes**\n",
    "  * Triple quotes avoid escaping when string contains both single and double quotes\n",
    "  * Improper use may cause **syntax error** due to imbalance\n",
    "  * Use single quotes if string contains double quotes\n",
    "  * Use double quotes if string contains single quotes\n",
    "  * Strings can be concatenated (`+`) to compose text\n",
    "  * `f-strings` allow embedding variables inside strings (prefix string with `f`)\n",
    "  * Result of concatenation or f-string is still a string\n",
    "\n",
    "* **Integers**\n",
    "\n",
    "  * Checked with `type()` function\n",
    "  * Support mathematical operations\n",
    "  * Division by zero raises `ZeroDivisionError`\n",
    "  * Mixing incompatible types (e.g., integer + string) raises `TypeError`\n",
    "  * Integer division can result in a **float** (e.g., `3/2 = 1.5`)\n",
    "\n",
    "* **Floats**\n",
    "\n",
    "  * Represented by numbers with decimals (e.g., `14.3`, `3.14159`)\n",
    "  * Results from division of integers can produce floats\n",
    "\n",
    "* **Booleans**\n",
    "\n",
    "  * Written as `True` and `False` (capitalized first letter)\n",
    "  * Some types evaluate as boolean (`bool(1)` → `True`, `bool(0)` → `False`)\n",
    "  * `bool()` function interprets values as `True` or `False`\n",
    "\n",
    "* **None**\n",
    "\n",
    "  * Represents no value / empty value\n",
    "  * Returned by functions that do not explicitly return anything\n",
    "  * Can be assigned to variables\n",
    "  * Used as a signal for \"nothing happening\" or empty result\n"
   ]
  },
  {
   "cell_type": "markdown",
   "id": "d9830115",
   "metadata": {},
   "source": [
    "#### Strings"
   ]
  },
  {
   "cell_type": "code",
   "execution_count": 10,
   "id": "d9c48dcf",
   "metadata": {},
   "outputs": [
    {
     "name": "stdout",
     "output_type": "stream",
     "text": [
      "Abhi Jith\n",
      "Abhi Jith\n",
      "Abhi Jith\n"
     ]
    },
    {
     "data": {
      "text/plain": [
       "'Triple quotes are useful when you\\'re using \\' or \\'\\' or \"\" within the string'"
      ]
     },
     "execution_count": 10,
     "metadata": {},
     "output_type": "execute_result"
    }
   ],
   "source": [
    "#strings can be assigned with single, double and triple quotes\n",
    "full_name = \"Abhi Jith\"\n",
    "print(full_name)\n",
    "full_name = 'Abhi Jith'\n",
    "print(full_name)\n",
    "full_name = \"\"\"Abhi Jith\"\"\"\n",
    "print(full_name)\n",
    "summary = \"\"\"Triple quotes are useful when you're using ' or '' or \"\" within the string\"\"\"\n",
    "summary"
   ]
  },
  {
   "cell_type": "code",
   "execution_count": 11,
   "id": "616e5cae",
   "metadata": {},
   "outputs": [
    {
     "data": {
      "text/plain": [
       "'this string is an addition Abhi'"
      ]
     },
     "execution_count": 11,
     "metadata": {},
     "output_type": "execute_result"
    }
   ],
   "source": [
    "name = \"Abhi\"\n",
    "result = \"this string is an addition \" + name\n",
    "result"
   ]
  },
  {
   "cell_type": "code",
   "execution_count": 12,
   "id": "a17515d5",
   "metadata": {},
   "outputs": [
    {
     "data": {
      "text/plain": [
       "'Abhi now will appear in this string'"
      ]
     },
     "execution_count": 12,
     "metadata": {},
     "output_type": "execute_result"
    }
   ],
   "source": [
    "#use f-strings\n",
    "result = f\"{name} now will appear in this string\"\n",
    "result"
   ]
  },
  {
   "cell_type": "markdown",
   "id": "69df6735",
   "metadata": {},
   "source": [
    "#### Integers"
   ]
  },
  {
   "cell_type": "code",
   "execution_count": 13,
   "id": "141e942d",
   "metadata": {},
   "outputs": [
    {
     "data": {
      "text/plain": [
       "int"
      ]
     },
     "execution_count": 13,
     "metadata": {},
     "output_type": "execute_result"
    }
   ],
   "source": [
    "# use type() to discover what data type anythign is\n",
    "type(15)"
   ]
  },
  {
   "cell_type": "code",
   "execution_count": 14,
   "id": "c56df177",
   "metadata": {},
   "outputs": [
    {
     "data": {
      "text/plain": [
       "2.0"
      ]
     },
     "execution_count": 14,
     "metadata": {},
     "output_type": "execute_result"
    }
   ],
   "source": [
    "#integers support all mathematical operations\n",
    "14/7"
   ]
  },
  {
   "cell_type": "code",
   "execution_count": 15,
   "id": "66785e23",
   "metadata": {},
   "outputs": [
    {
     "ename": "ZeroDivisionError",
     "evalue": "division by zero",
     "output_type": "error",
     "traceback": [
      "\u001b[31m---------------------------------------------------------------------------\u001b[39m",
      "\u001b[31mZeroDivisionError\u001b[39m                         Traceback (most recent call last)",
      "\u001b[36mCell\u001b[39m\u001b[36m \u001b[39m\u001b[32mIn[15]\u001b[39m\u001b[32m, line 2\u001b[39m\n\u001b[32m      1\u001b[39m \u001b[38;5;66;03m#watchout for invalid mathematical operations\u001b[39;00m\n\u001b[32m----> \u001b[39m\u001b[32m2\u001b[39m \u001b[32;43m7\u001b[39;49m\u001b[43m/\u001b[49m\u001b[32;43m0\u001b[39;49m\n",
      "\u001b[31mZeroDivisionError\u001b[39m: division by zero"
     ]
    }
   ],
   "source": [
    "#watchout for invalid mathematical operations\n",
    "7/0"
   ]
  },
  {
   "cell_type": "code",
   "execution_count": null,
   "id": "df1871e5",
   "metadata": {},
   "outputs": [
    {
     "ename": "TypeError",
     "evalue": "unsupported operand type(s) for +: 'int' and 'str'",
     "output_type": "error",
     "traceback": [
      "\u001b[31m---------------------------------------------------------------------------\u001b[39m",
      "\u001b[31mTypeError\u001b[39m                                 Traceback (most recent call last)",
      "\u001b[36mCell\u001b[39m\u001b[36m \u001b[39m\u001b[32mIn[23]\u001b[39m\u001b[32m, line 2\u001b[39m\n\u001b[32m      1\u001b[39m \u001b[38;5;66;03m#can't mix unsupported types\u001b[39;00m\n\u001b[32m----> \u001b[39m\u001b[32m2\u001b[39m \u001b[32;43m7\u001b[39;49m\u001b[43m \u001b[49m\u001b[43m+\u001b[49m\u001b[43m \u001b[49m\u001b[33;43m\"\u001b[39;49m\u001b[33;43m14\u001b[39;49m\u001b[33;43m\"\u001b[39;49m\n",
      "\u001b[31mTypeError\u001b[39m: unsupported operand type(s) for +: 'int' and 'str'"
     ]
    }
   ],
   "source": [
    "#can't mix unsupported types\n",
    "7 + \"14\""
   ]
  },
  {
   "cell_type": "code",
   "execution_count": null,
   "id": "0bf485c5",
   "metadata": {},
   "outputs": [
    {
     "name": "stdout",
     "output_type": "stream",
     "text": [
      "1.5\n"
     ]
    },
    {
     "data": {
      "text/plain": [
       "float"
      ]
     },
     "execution_count": 24,
     "metadata": {},
     "output_type": "execute_result"
    }
   ],
   "source": [
    "#types can change depending on operations\n",
    "result = 3/2\n",
    "print(result)\n",
    "type(result)"
   ]
  },
  {
   "cell_type": "markdown",
   "id": "c691c74e",
   "metadata": {},
   "source": [
    "#### Floats"
   ]
  },
  {
   "cell_type": "code",
   "execution_count": null,
   "id": "4e3b1bf9",
   "metadata": {},
   "outputs": [
    {
     "data": {
      "text/plain": [
       "float"
      ]
     },
     "execution_count": 25,
     "metadata": {},
     "output_type": "execute_result"
    }
   ],
   "source": [
    "type(14.3)"
   ]
  },
  {
   "cell_type": "code",
   "execution_count": null,
   "id": "b1002193",
   "metadata": {},
   "outputs": [
    {
     "data": {
      "text/plain": [
       "3.1414141414141414"
      ]
     },
     "execution_count": 26,
     "metadata": {},
     "output_type": "execute_result"
    }
   ],
   "source": [
    "311/99"
   ]
  },
  {
   "cell_type": "markdown",
   "id": "0328e564",
   "metadata": {},
   "source": [
    "#### Booleans"
   ]
  },
  {
   "cell_type": "code",
   "execution_count": null,
   "id": "bcca41ad",
   "metadata": {},
   "outputs": [
    {
     "name": "stdout",
     "output_type": "stream",
     "text": [
      "<class 'bool'>\n",
      "<class 'bool'>\n"
     ]
    }
   ],
   "source": [
    "print(type(True))\n",
    "print(type(False))"
   ]
  },
  {
   "cell_type": "code",
   "execution_count": null,
   "id": "28629371",
   "metadata": {},
   "outputs": [
    {
     "name": "stdout",
     "output_type": "stream",
     "text": [
      "True False\n"
     ]
    }
   ],
   "source": [
    "first_result = bool(1)\n",
    "second_result = bool(0)\n",
    "print(first_result, second_result)"
   ]
  },
  {
   "cell_type": "markdown",
   "id": "ee6b0f02",
   "metadata": {},
   "source": [
    "#### None"
   ]
  },
  {
   "cell_type": "code",
   "execution_count": 16,
   "id": "e9b1a652",
   "metadata": {},
   "outputs": [
    {
     "data": {
      "text/plain": [
       "NoneType"
      ]
     },
     "execution_count": 16,
     "metadata": {},
     "output_type": "execute_result"
    }
   ],
   "source": [
    "type(None)"
   ]
  },
  {
   "cell_type": "markdown",
   "id": "be619c4b",
   "metadata": {},
   "source": [
    "### Conditionals and Evaluations\n",
    "\n",
    "* **`if` keyword** allows setting conditions and executing code if the condition evaluates to `True`\n",
    "* If condition is `False`, nothing executes\n",
    "* **Truthy and falsy values**:\n",
    "\n",
    "  * Empty data structures (e.g., lists, dicts) evaluate to `False`\n",
    "  * Non-empty data structures evaluate to `True`\n",
    "  * Integer `0` evaluates to `False`, positive integers evaluate to `True`\n",
    "* **Comparison operators** supported (e.g., `==`, `>`, `<`, `>=`, `<=`)\n",
    "* **`else` keyword** executes code when `if` condition is not met (acts as “otherwise”)\n",
    "* **`elif` keyword** allows checking additional conditions after `if` fails\n",
    "* **Negative conditions** using `not` keyword:\n",
    "\n",
    "  * Reverses evaluation (`not False → True`, `not True → False`)\n",
    "  * Useful for cases like `if not name:`\n",
    "* **Chained conditions** with `elif not ...` to handle multiple negative cases\n",
    "* **Compound conditions** with `and`:\n",
    "\n",
    "  * Example: `if has_kids and married:` → both must be `True`\n",
    "* **Compound conditions with `not`**:\n",
    "\n",
    "  * Example: `if not likes_books and not is_logged_in:` → evaluates correctly when both are `False`\n",
    "* Be careful with compounding conditions; they can get hard to read\n"
   ]
  },
  {
   "cell_type": "markdown",
   "id": "5d9f6d54",
   "metadata": {},
   "source": [
    "#### if conditions and evaluations"
   ]
  },
  {
   "cell_type": "code",
   "execution_count": 17,
   "id": "97b82ee1",
   "metadata": {},
   "outputs": [
    {
     "name": "stdout",
     "output_type": "stream",
     "text": [
      "condition met\n"
     ]
    }
   ],
   "source": [
    "condition = True\n",
    "if condition:\n",
    "    print(\"condition met\")"
   ]
  },
  {
   "cell_type": "code",
   "execution_count": 18,
   "id": "2f1e920b",
   "metadata": {},
   "outputs": [],
   "source": [
    "condition = False\n",
    "if condition:\n",
    "    print(\"condition met?\")"
   ]
  },
  {
   "cell_type": "code",
   "execution_count": 19,
   "id": "2c2b8e0c",
   "metadata": {},
   "outputs": [
    {
     "name": "stdout",
     "output_type": "stream",
     "text": [
      "yes invites\n"
     ]
    }
   ],
   "source": [
    "#some data structures are truthy: false when empty, true when contain items\n",
    "groceries = []\n",
    "if groceries:\n",
    "    print(\"groceries yes\")\n",
    "\n",
    "#So when a list is empty, it will be false. \n",
    "\n",
    "invites = [\"john\", \"george\"]\n",
    "if invites:\n",
    "    print(\"yes invites\")\n"
   ]
  },
  {
   "cell_type": "code",
   "execution_count": 20,
   "id": "a1b13f52",
   "metadata": {},
   "outputs": [
    {
     "name": "stdout",
     "output_type": "stream",
     "text": [
      "yes, parents\n"
     ]
    }
   ],
   "source": [
    "#integers are truthy\n",
    "properties = 0\n",
    "if properties:\n",
    "    print(\"yes\")\n",
    "\n",
    "parents = 2\n",
    "if parents:\n",
    "    print(\"yes, parents\")"
   ]
  },
  {
   "cell_type": "code",
   "execution_count": 21,
   "id": "2e87c522",
   "metadata": {},
   "outputs": [
    {
     "name": "stdout",
     "output_type": "stream",
     "text": [
      "no properties\n",
      "yes parents\n"
     ]
    }
   ],
   "source": [
    "#operators are supported\n",
    "if properties == 0:\n",
    "    print(\"no properties\")\n",
    "\n",
    "if parents>1:\n",
    "    print(\"yes parents\")"
   ]
  },
  {
   "cell_type": "markdown",
   "id": "5769e2f2",
   "metadata": {},
   "source": [
    "#### else conditions"
   ]
  },
  {
   "cell_type": "code",
   "execution_count": 22,
   "id": "c386f439",
   "metadata": {},
   "outputs": [
    {
     "name": "stdout",
     "output_type": "stream",
     "text": [
      "we don't have properties\n"
     ]
    }
   ],
   "source": [
    "if properties:\n",
    "    print(\"we have properties\")\n",
    "else:\n",
    "    print(\"we don't have properties\")"
   ]
  },
  {
   "cell_type": "markdown",
   "id": "705d54ca",
   "metadata": {},
   "source": [
    "#### elif"
   ]
  },
  {
   "cell_type": "code",
   "execution_count": 23,
   "id": "1d7f7e26",
   "metadata": {},
   "outputs": [
    {
     "name": "stdout",
     "output_type": "stream",
     "text": [
      "no properties, but yes parents\n"
     ]
    }
   ],
   "source": [
    "if properties:\n",
    "    print(\"yes properties\")\n",
    "#evaluate if parents are valid\n",
    "elif parents:\n",
    "    print(\"no properties, but yes parents\")"
   ]
  },
  {
   "cell_type": "markdown",
   "id": "6a943c89",
   "metadata": {},
   "source": [
    "#### negative conditions"
   ]
  },
  {
   "cell_type": "code",
   "execution_count": 24,
   "id": "3475d151",
   "metadata": {},
   "outputs": [
    {
     "name": "stdout",
     "output_type": "stream",
     "text": [
      "didnt get name\n"
     ]
    }
   ],
   "source": [
    "name = None\n",
    "\n",
    "if not name:\n",
    "    print(\"didnt get name\")"
   ]
  },
  {
   "cell_type": "code",
   "execution_count": 25,
   "id": "28144f8c",
   "metadata": {},
   "outputs": [
    {
     "name": "stdout",
     "output_type": "stream",
     "text": [
      "no last name\n"
     ]
    }
   ],
   "source": [
    "last_name = None\n",
    "\n",
    "if name:\n",
    "    print(\"No name\")\n",
    "elif not last_name:\n",
    "    print(\"no last name\")"
   ]
  },
  {
   "cell_type": "markdown",
   "id": "7ae35731",
   "metadata": {},
   "source": [
    "#### Compounding conditions with and"
   ]
  },
  {
   "cell_type": "code",
   "execution_count": 26,
   "id": "f2986429",
   "metadata": {},
   "outputs": [
    {
     "name": "stdout",
     "output_type": "stream",
     "text": [
      "person is married and have kids\n"
     ]
    }
   ],
   "source": [
    "has_kids = True\n",
    "married = True\n",
    "if has_kids and married:\n",
    "    print(\"person is married and have kids\")"
   ]
  },
  {
   "cell_type": "code",
   "execution_count": 27,
   "id": "bf5a7dc3",
   "metadata": {},
   "outputs": [
    {
     "name": "stdout",
     "output_type": "stream",
     "text": [
      "user doesn't like books and not logged in\n"
     ]
    }
   ],
   "source": [
    "likes_books = False\n",
    "is_logged_in = False\n",
    "\n",
    "if not likes_books and not is_logged_in:\n",
    "    print(\"user doesn't like books and not logged in\")"
   ]
  },
  {
   "cell_type": "markdown",
   "id": "5184cc87",
   "metadata": {},
   "source": [
    "### Catching and Handling Exceptions\n",
    "\n",
    "* **Exceptions** in Python are how errors are bubbled up or advertised in programs\n",
    "* Example: `14 / 0` raises **ZeroDivisionError** with message *division by zero*\n",
    "* Exceptions often have a descriptive **name** and **message**\n",
    "* **Raising exceptions manually**:\n",
    "\n",
    "  * Use `raise` keyword\n",
    "  * Example: `raise RuntimeError(\"this is a problem\")`\n",
    "* **Catching exceptions** with `try-except`:\n",
    "\n",
    "  * `try` block runs code\n",
    "  * If matching exception occurs, control moves to `except` block\n",
    "  * Example: `except ZeroDivisionError:` → handle division by zero\n",
    "* **Caution**: Only catch exceptions you can handle properly\n",
    "* **Avoid** catching all exceptions (`except Exception:`) as it hides the real cause\n",
    "* **Multiple exceptions** can be caught:\n",
    "\n",
    "  * Use tuple in `except (ZeroDivisionError, TypeError):`\n",
    "  * Catches either type if raised\n",
    "* **Assigning exceptions to a variable**:\n",
    "\n",
    "  * Syntax: `except ExceptionType as error:`\n",
    "  * Variable holds exception instance\n",
    "  * Can print or log `error` message (e.g., `\"division by zero\"`)\n",
    "* Exceptions provide detailed error messages that help debugging\n",
    "* Proper handling ensures robustness and prevents silent failures\n"
   ]
  },
  {
   "cell_type": "markdown",
   "id": "0181de07",
   "metadata": {},
   "source": [
    "#### Exceptions"
   ]
  },
  {
   "cell_type": "code",
   "execution_count": 28,
   "id": "aa9e60f6",
   "metadata": {},
   "outputs": [
    {
     "ename": "ZeroDivisionError",
     "evalue": "division by zero",
     "output_type": "error",
     "traceback": [
      "\u001b[31m---------------------------------------------------------------------------\u001b[39m",
      "\u001b[31mZeroDivisionError\u001b[39m                         Traceback (most recent call last)",
      "\u001b[36mCell\u001b[39m\u001b[36m \u001b[39m\u001b[32mIn[28]\u001b[39m\u001b[32m, line 1\u001b[39m\n\u001b[32m----> \u001b[39m\u001b[32m1\u001b[39m \u001b[32;43m14\u001b[39;49m\u001b[43m \u001b[49m\u001b[43m/\u001b[49m\u001b[43m \u001b[49m\u001b[32;43m0\u001b[39;49m\n",
      "\u001b[31mZeroDivisionError\u001b[39m: division by zero"
     ]
    }
   ],
   "source": [
    "14 / 0"
   ]
  },
  {
   "cell_type": "code",
   "execution_count": 29,
   "id": "3d6bd2b5",
   "metadata": {},
   "outputs": [
    {
     "ename": "RuntimeError",
     "evalue": "this is a problem",
     "output_type": "error",
     "traceback": [
      "\u001b[31m---------------------------------------------------------------------------\u001b[39m",
      "\u001b[31mRuntimeError\u001b[39m                              Traceback (most recent call last)",
      "\u001b[36mCell\u001b[39m\u001b[36m \u001b[39m\u001b[32mIn[29]\u001b[39m\u001b[32m, line 2\u001b[39m\n\u001b[32m      1\u001b[39m \u001b[38;5;66;03m#generating exception with own code\u001b[39;00m\n\u001b[32m----> \u001b[39m\u001b[32m2\u001b[39m \u001b[38;5;28;01mraise\u001b[39;00m \u001b[38;5;167;01mRuntimeError\u001b[39;00m(\u001b[33m\"\u001b[39m\u001b[33mthis is a problem\u001b[39m\u001b[33m\"\u001b[39m)\n",
      "\u001b[31mRuntimeError\u001b[39m: this is a problem"
     ]
    }
   ],
   "source": [
    "#generating exception with own code\n",
    "raise RuntimeError(\"this is a problem\")"
   ]
  },
  {
   "cell_type": "markdown",
   "id": "92a1d5d9",
   "metadata": {},
   "source": [
    "#### Catching an Exception"
   ]
  },
  {
   "cell_type": "code",
   "execution_count": 30,
   "id": "063298e3",
   "metadata": {},
   "outputs": [
    {
     "name": "stdout",
     "output_type": "stream",
     "text": [
      "7.0\n"
     ]
    }
   ],
   "source": [
    "try:\n",
    "    #any operation that causes an error\n",
    "    result = 14/0\n",
    "except ZeroDivisionError:\n",
    "    result = 14/2\n",
    "\n",
    "print(result)"
   ]
  },
  {
   "cell_type": "code",
   "execution_count": 31,
   "id": "562cec0a",
   "metadata": {},
   "outputs": [
    {
     "name": "stdout",
     "output_type": "stream",
     "text": [
      "7.0\n"
     ]
    }
   ],
   "source": [
    "#don't catch all exceptions\n",
    "try:\n",
    "    result = 1/0\n",
    "    raise RuntimeError(\"error\")\n",
    "\n",
    "except Exception:\n",
    "    result = 14/2\n",
    "\n",
    "print(result)"
   ]
  },
  {
   "cell_type": "code",
   "execution_count": 32,
   "id": "405b5ee3",
   "metadata": {},
   "outputs": [
    {
     "ename": "TypeError",
     "evalue": "unsupported operand type(s) for +: 'float' and 'str'",
     "output_type": "error",
     "traceback": [
      "\u001b[31m---------------------------------------------------------------------------\u001b[39m",
      "\u001b[31mTypeError\u001b[39m                                 Traceback (most recent call last)",
      "\u001b[36mCell\u001b[39m\u001b[36m \u001b[39m\u001b[32mIn[32]\u001b[39m\u001b[32m, line 3\u001b[39m\n\u001b[32m      1\u001b[39m \u001b[38;5;28;01mtry\u001b[39;00m:\n\u001b[32m      2\u001b[39m     result = \u001b[32m14\u001b[39m/\u001b[32m2\u001b[39m\n\u001b[32m----> \u001b[39m\u001b[32m3\u001b[39m     \u001b[43mresult\u001b[49m\u001b[43m \u001b[49m\u001b[43m+\u001b[49m\u001b[43m \u001b[49m\u001b[33;43m\"\u001b[39;49m\u001b[33;43m100\u001b[39;49m\u001b[33;43m\"\u001b[39;49m \n\u001b[32m      4\u001b[39m \u001b[38;5;28;01mexcept\u001b[39;00m \u001b[38;5;167;01mZeroDivisionError\u001b[39;00m:\n\u001b[32m      5\u001b[39m     result = \u001b[32m14\u001b[39m/\u001b[32m2\u001b[39m\n",
      "\u001b[31mTypeError\u001b[39m: unsupported operand type(s) for +: 'float' and 'str'"
     ]
    }
   ],
   "source": [
    "try:\n",
    "    result = 14/2\n",
    "    result + \"100\" \n",
    "except ZeroDivisionError:\n",
    "    result = 14/2\n",
    "\n",
    "print(result)"
   ]
  },
  {
   "cell_type": "code",
   "execution_count": 33,
   "id": "0b952708",
   "metadata": {},
   "outputs": [
    {
     "name": "stdout",
     "output_type": "stream",
     "text": [
      "7.0\n"
     ]
    }
   ],
   "source": [
    "#the correct way to execute the above block is by catching multiple errors\n",
    "try:\n",
    "    result = 14/2\n",
    "    result + \"100\"\n",
    "\n",
    "except (ZeroDivisionError, TypeError):\n",
    "    result = 14/2\n",
    "\n",
    "print(result)"
   ]
  },
  {
   "cell_type": "code",
   "execution_count": 34,
   "id": "fc99dd12",
   "metadata": {},
   "outputs": [
    {
     "name": "stdout",
     "output_type": "stream",
     "text": [
      "got an error --> division by zero\n",
      "7.0\n"
     ]
    }
   ],
   "source": [
    "try:\n",
    "    result = 14/0\n",
    "except ZeroDivisionError as error:\n",
    "    print(f\"got an error --> {error}\")\n",
    "    result = 14/2\n",
    "print(result)"
   ]
  },
  {
   "cell_type": "markdown",
   "id": "5524bbab",
   "metadata": {},
   "source": [
    "## Exercises\n",
    "\n",
    "1. Create a script that adds two numeric user inputs and prints output\n",
    "2. Use f-strings and input variables to print customized greeting\n",
    "3. Catch ZeroDivisionError to print user-friendly error message\n",
    "4. Cause and handle a TypeError by concatenating the wrong data types\n",
    "5. Write exception handling that differentiates multiple errors"
   ]
  },
  {
   "cell_type": "code",
   "execution_count": 37,
   "id": "32e3b46a",
   "metadata": {},
   "outputs": [
    {
     "name": "stdout",
     "output_type": "stream",
     "text": [
      "The sum is 3\n"
     ]
    }
   ],
   "source": [
    "#1\n",
    "num1 = int(input(\"Enter 1st number:\"))\n",
    "num2 = int(input(\"Enter 2nd number:\"))\n",
    "print(f\"The sum is {num1 + num2}\")"
   ]
  },
  {
   "cell_type": "code",
   "execution_count": null,
   "id": "c8f83767",
   "metadata": {},
   "outputs": [
    {
     "name": "stdout",
     "output_type": "stream",
     "text": [
      "Welcome Abhi, to the thunderdome!\n"
     ]
    }
   ],
   "source": [
    "#2\n",
    "name = input(\"Enter name:\")\n",
    "greeting = f\"Welcome {name}, to the thunderdome!\"\n",
    "print(greeting)"
   ]
  },
  {
   "cell_type": "code",
   "execution_count": null,
   "id": "541dc5aa",
   "metadata": {},
   "outputs": [
    {
     "name": "stdout",
     "output_type": "stream",
     "text": [
      "There's an error: division by zero\n"
     ]
    }
   ],
   "source": [
    "#3\n",
    "try:\n",
    "    div = 14/0\n",
    "except ZeroDivisionError as error:\n",
    "    print(f\"There's an error: {error}\")"
   ]
  },
  {
   "cell_type": "code",
   "execution_count": 42,
   "id": "142a8de6",
   "metadata": {},
   "outputs": [
    {
     "name": "stdout",
     "output_type": "stream",
     "text": [
      "error: unsupported operand type(s) for +: 'int' and 'str'\n"
     ]
    }
   ],
   "source": [
    "#4\n",
    "try:\n",
    "    num = 10\n",
    "    num + \"100\"\n",
    "except TypeError as error:\n",
    "    print(f\"error: {error}\")\n"
   ]
  },
  {
   "cell_type": "code",
   "execution_count": 49,
   "id": "c7c68453",
   "metadata": {},
   "outputs": [
    {
     "name": "stdout",
     "output_type": "stream",
     "text": [
      "error: unsupported operand type(s) for +: 'float' and 'str'\n",
      "7.0\n",
      "7.0\n"
     ]
    }
   ],
   "source": [
    "#5\n",
    "try:\n",
    "    div = 14/2\n",
    "    result = 14/2\n",
    "    result + \"100\"\n",
    "except (ZeroDivisionError, TypeError) as error:\n",
    "    if isinstance(error, ZeroDivisionError):\n",
    "        print(f\"error: {error}\")\n",
    "        div = 14/2\n",
    "    elif isinstance(error, TypeError):\n",
    "        print(f\"error: {error}\")\n",
    "        result = 14/2\n",
    "print(div)\n",
    "print(result)\n"
   ]
  },
  {
   "cell_type": "markdown",
   "id": "8317af41",
   "metadata": {},
   "source": [
    "### Key Terms\n",
    "\n",
    "*    List - An ordered collection of values enclosed in square brackets []. Useful for storing sequences of items.\n",
    "\n",
    "*    Index - The numeric position of an item in a list. Starts at 0 for first item. Used to access items by position.\n",
    "\n",
    "*    Iteration - Repeated execution of code on successive list items. Done in Python with a for-in loop.\n",
    "\n",
    "*    Dictionary - Unordered collection of key-value pairs denoted with curly braces {}. Keys map to associated values.\n",
    "\n",
    "*    Key - Unique identifier that is used to look up values in a dictionary. Looks up are very fast.\n",
    "\n",
    "*    Value - Data associated with a given key in a dictionary. Values can be any Python data type.\n",
    "\n",
    "*    Tuple - Fixed-size, immutable ordered collection similar to a list. Denoted with (). Useful when data shouldn't change.\n",
    "\n",
    "*    Set - Unordered collection of unique objects. Helpful for removing duplicates and set operations.\n",
    "\n",
    "*    Membership - Ability to check if a value is contained in a collection like lists, dictionaries, tuples, or sets.\n",
    "\n",
    "*    Methods - Built-in functions that allow manipulating and interacting with data structures.\n",
    "\n",
    "*    Iteration - The process of repeatedly executing code on each item in a collection one by one."
   ]
  },
  {
   "cell_type": "code",
   "execution_count": 68,
   "id": "a9e7d732",
   "metadata": {},
   "outputs": [
    {
     "name": "stdout",
     "output_type": "stream",
     "text": [
      "1\n",
      "1\n",
      "2\n",
      "3\n",
      "4\n",
      "num[0] is 1\n",
      "num[1] is 2\n",
      "num[2] is 3\n",
      "num[3] is 4\n",
      "San Fransisco\n",
      "San Fransisco\n",
      "Los Angeles\n",
      "blue\n",
      "{'SFO', 'ORD', 'LAX'}\n",
      "3\n",
      "{'ORD', 'LAX'}\n",
      "True\n",
      "{'SFO', 'ORD', 'LAX'}\n"
     ]
    }
   ],
   "source": [
    "# list\n",
    "nums = [1,2,3,4] #ordered collection in square brackets\n",
    "print(nums[0]) #access first item using index 0\n",
    "\n",
    "for n in nums: #iterate over list\n",
    "    print(n)\n",
    "\n",
    "for i, n in enumerate(nums): #another way to do it\n",
    "    print(f\"num[{i}] is {n}\")\n",
    "\n",
    "#dictionary\n",
    "airports = {\"SFO\":\"San Fransisco\", \"LAX\":\"Los Angeles\"} #key-value pairs\n",
    "print(airports[\"SFO\"])\n",
    "\n",
    "for code in airports:\n",
    "    print(airports[code])\n",
    "\n",
    "#tuple\n",
    "colors = (\"red\", \"green\", \"blue\") #immutable ordered collection\n",
    "print(colors[2])\n",
    "\n",
    "#set\n",
    "unique_codes = {\"SFO\", \"LAX\", \"SFO\", \"ORD\", \"SFO\", \"ORD\"}\n",
    "print(unique_codes)\n",
    "print(len(unique_codes))\n",
    "unique_codes.pop()\n",
    "print(unique_codes)\n",
    "\n",
    "#membership check with in\n",
    "print(\"SFO\" in airports)\n",
    "\n",
    "#method to add items\n",
    "unique_codes.add(\"SFO\")\n",
    "print(unique_codes)"
   ]
  },
  {
   "cell_type": "markdown",
   "id": "23b49dd1",
   "metadata": {},
   "source": [
    "### Lists\n",
    "\n",
    "* **Lists** are one of the most common data structures in Python\n",
    "* Defined with **square brackets** `[]` or with the **`list()` constructor**\n",
    "* Lists are **containers of items**; can hold **any type** (integers, strings, booleans, floats, etc.)\n",
    "* Lists **preserve order** of items\n",
    "* **Length of a list** can be checked with `len()`\n",
    "* Lists can be assigned to variables (e.g., `items = [\"carrots\", \"peas\", \"celery\"]`)\n",
    "* **Indexing**:\n",
    "\n",
    "  * Starts at **0** (`items[0]` → first item)\n",
    "  * `items[1]` → second item\n",
    "  * **Negative indices** access items from the end (`items[-1]` → last item, `items[-2]` → second-to-last)\n",
    "* **Iteration over lists**:\n",
    "\n",
    "  * Use `for element in list:` loop\n",
    "  * Each iteration assigns the next item in the list to the loop variable\n",
    "  * Preserves order of items\n",
    "  * Example:\n",
    "\n",
    "    ```python\n",
    "    colors = [\"red\", \"blue\", \"brown\"]\n",
    "    for color in colors:\n",
    "        print(color)\n",
    "    ```\n",
    "* Prefer **meaningful variable names** for clarity (`colors` list → `color` item)\n",
    "* **List comprehensions**:\n",
    "\n",
    "  * Compact way to build lists dynamically inside square brackets\n",
    "  * Syntax: `[expression for item in iterable if condition]`\n",
    "  * Example: `[n for n in numbers if n < 6]`\n",
    "  * Conditions can be changed (e.g., `if n > 6`)\n",
    "  * Powerful but can reduce readability if overused or too complex\n",
    "* Key notes:\n",
    "\n",
    "  * Lists are **flexible** (can store any type)\n",
    "  * Indexing starts at **0** (common confusion point)\n",
    "  * List comprehensions should be kept **simple and readable**\n"
   ]
  },
  {
   "cell_type": "code",
   "execution_count": 107,
   "id": "feb5be26",
   "metadata": {},
   "outputs": [
    {
     "name": "stdout",
     "output_type": "stream",
     "text": [
      "append\n",
      "clear\n",
      "copy\n",
      "count\n",
      "extend\n",
      "index\n",
      "insert\n",
      "pop\n",
      "remove\n",
      "reverse\n",
      "sort\n"
     ]
    }
   ],
   "source": [
    "for method in dir(list):\n",
    "    if method.startswith('__'):\n",
    "        continue\n",
    "    print(method)"
   ]
  },
  {
   "cell_type": "code",
   "execution_count": 69,
   "id": "e1d5722e",
   "metadata": {},
   "outputs": [
    {
     "name": "stdout",
     "output_type": "stream",
     "text": [
      "4\n"
     ]
    }
   ],
   "source": [
    "#containers of items identified by square brackets\n",
    "[1,2,3,4]\n",
    "\n",
    "#can contain different types of items \n",
    "[1, \"two\", False, 12.5]\n",
    "\n",
    "#use built-in to count items in list\n",
    "print(len([3,4,\"red\", \"car\"]))"
   ]
  },
  {
   "cell_type": "code",
   "execution_count": 70,
   "id": "a49b9e75",
   "metadata": {},
   "outputs": [
    {
     "data": {
      "text/plain": [
       "1"
      ]
     },
     "execution_count": 70,
     "metadata": {},
     "output_type": "execute_result"
    }
   ],
   "source": [
    "#each item has position called index\n",
    "items = [1, 2, 3]\n",
    "\n",
    "#retrieving specific items\n",
    "items[0]"
   ]
  },
  {
   "cell_type": "code",
   "execution_count": 72,
   "id": "65c530d5",
   "metadata": {},
   "outputs": [
    {
     "data": {
      "text/plain": [
       "3"
      ]
     },
     "execution_count": 72,
     "metadata": {},
     "output_type": "execute_result"
    }
   ],
   "source": [
    "#retreiving last item - use negative index to count from end\n",
    "items[-1]"
   ]
  },
  {
   "cell_type": "code",
   "execution_count": 73,
   "id": "47aa637a",
   "metadata": {},
   "outputs": [
    {
     "data": {
      "text/plain": [
       "[]"
      ]
     },
     "execution_count": 73,
     "metadata": {},
     "output_type": "execute_result"
    }
   ],
   "source": [
    "#create by defining empty list\n",
    "items = []\n",
    "items"
   ]
  },
  {
   "cell_type": "code",
   "execution_count": 74,
   "id": "c344ecf5",
   "metadata": {},
   "outputs": [
    {
     "data": {
      "text/plain": [
       "[]"
      ]
     },
     "execution_count": 74,
     "metadata": {},
     "output_type": "execute_result"
    }
   ],
   "source": [
    "items = list()\n",
    "items"
   ]
  },
  {
   "cell_type": "code",
   "execution_count": 76,
   "id": "be367eb0",
   "metadata": {},
   "outputs": [
    {
     "data": {
      "text/plain": [
       "['red', 'blue', 'brown']"
      ]
     },
     "execution_count": 76,
     "metadata": {},
     "output_type": "execute_result"
    }
   ],
   "source": [
    "#data can be pre-seeded\n",
    "colors = [\"red\", \"blue\", \"brown\"]\n",
    "colors"
   ]
  },
  {
   "cell_type": "code",
   "execution_count": 78,
   "id": "8f464d9e",
   "metadata": {},
   "outputs": [
    {
     "name": "stdout",
     "output_type": "stream",
     "text": [
      "red\n",
      "blue\n",
      "brown\n",
      "red\n",
      "blue\n"
     ]
    }
   ],
   "source": [
    "#iterating\n",
    "for color in colors:\n",
    "    print(color)\n",
    "\n",
    "#this is equivalent\n",
    "for color in ['red', 'blue']:\n",
    "    print(color)"
   ]
  },
  {
   "cell_type": "code",
   "execution_count": 80,
   "id": "807b5223",
   "metadata": {},
   "outputs": [
    {
     "data": {
      "text/plain": [
       "[1, 2, 3, 4]"
      ]
     },
     "execution_count": 80,
     "metadata": {},
     "output_type": "execute_result"
    }
   ],
   "source": [
    "#list comprehensions\n",
    "numbers = [1,2,3,4,5,6]\n",
    "low_numbers = [n for n in numbers if n <= 4]\n",
    "low_numbers"
   ]
  },
  {
   "cell_type": "markdown",
   "id": "90c38079",
   "metadata": {},
   "source": [
    "### Dictionaries\n",
    "\n",
    "* **Dictionaries** in Python are **mappings of items** (key → value)\n",
    "* Example analogy: **phonebook** (name → phone number)\n",
    "* Defined with **curly braces `{}`**\n",
    "* **Keys and values** are separated by a colon (`key: value`)\n",
    "* Keys must be **unique**; duplicate keys overwrite earlier ones\n",
    "* Values can be of any type (string, int, bool, list, etc.)\n",
    "* Keys must be **hashable** (cannot use mutable types like lists as keys) → raises **TypeError: unhashable type**\n",
    "* Dictionaries work like a **mini in-memory database** due to key uniqueness\n",
    "\n",
    "**Creating dictionaries**:\n",
    "\n",
    "* `{ \"name\": \"Alfredo\", \"last_name\": \"Deza\" }`\n",
    "* `dict()` function\n",
    "* `dict([(\"name\", \"Alfredo\"), (\"last_name\", \"Deza\")])` → from list of pairs/tuples\n",
    "* `dict(first=\"Alfredo\", last_name=\"Deza\")` → using keyword arguments\n",
    "\n",
    "**Iterating dictionaries**:\n",
    "\n",
    "* **Keys only**:\n",
    "\n",
    "  * `for key in dict.keys():`\n",
    "  * `for key in dict:` (default, same as `.keys()`)\n",
    "* **Values only**:\n",
    "\n",
    "  * `for value in dict.values():`\n",
    "* **Keys and values together**:\n",
    "\n",
    "  * `for key, value in dict.items():` → requires **unpacking** into two variables\n",
    "  * `.items()` behaves like a list of key-value pairs\n",
    "\n",
    "**Examples**:\n",
    "\n",
    "* Iterating keys → `\"name\"`, `\"last_name\"`, `\"age\"`, `\"height\"`\n",
    "* Iterating values → `\"Alfredo\"`, `\"Deza\"`, `49`, `1.90`\n",
    "* Iterating both → `\"name Alfredo\"`, `\"last_name Deza\"`, `\"age 49\"`, `\"height 1.90\"`\n",
    "\n",
    "**Key notes**:\n",
    "\n",
    "* Dictionaries store **unique keys**\n",
    "* Keys must be **immutable / hashable**\n",
    "* `.keys()`, `.values()`, `.items()` are the main iteration methods\n",
    "* Unpacking in `for key, value in dict.items()` allows accessing both at once\n"
   ]
  },
  {
   "cell_type": "code",
   "execution_count": 106,
   "id": "2a0a175b",
   "metadata": {},
   "outputs": [
    {
     "name": "stdout",
     "output_type": "stream",
     "text": [
      "clear\n",
      "copy\n",
      "fromkeys\n",
      "get\n",
      "items\n",
      "keys\n",
      "pop\n",
      "popitem\n",
      "setdefault\n",
      "update\n",
      "values\n"
     ]
    }
   ],
   "source": [
    "for method in dir(dict):\n",
    "    if method.startswith('__'):\n",
    "        continue\n",
    "    print(method)"
   ]
  },
  {
   "cell_type": "code",
   "execution_count": 85,
   "id": "2807f478",
   "metadata": {},
   "outputs": [
    {
     "name": "stdout",
     "output_type": "stream",
     "text": [
      "{'key': 'value'}\n",
      "{'key': True}\n",
      "{'items': [1, 2, 'three', False]}\n",
      "{'name': 'Namo'}\n"
     ]
    },
    {
     "ename": "TypeError",
     "evalue": "unhashable type: 'list'",
     "output_type": "error",
     "traceback": [
      "\u001b[31m---------------------------------------------------------------------------\u001b[39m",
      "\u001b[31mTypeError\u001b[39m                                 Traceback (most recent call last)",
      "\u001b[36mCell\u001b[39m\u001b[36m \u001b[39m\u001b[32mIn[85]\u001b[39m\u001b[32m, line 12\u001b[39m\n\u001b[32m      9\u001b[39m \u001b[38;5;28mprint\u001b[39m({\u001b[33m'\u001b[39m\u001b[33mname\u001b[39m\u001b[33m'\u001b[39m:\u001b[33m'\u001b[39m\u001b[33mAlfredo\u001b[39m\u001b[33m'\u001b[39m, \u001b[33m'\u001b[39m\u001b[33mname\u001b[39m\u001b[33m'\u001b[39m:\u001b[33m'\u001b[39m\u001b[33mNamo\u001b[39m\u001b[33m'\u001b[39m})\n\u001b[32m     11\u001b[39m \u001b[38;5;66;03m# key can't be list or dict\u001b[39;00m\n\u001b[32m---> \u001b[39m\u001b[32m12\u001b[39m {[\u001b[32m1\u001b[39m,\u001b[32m2\u001b[39m]:\u001b[33m\"\u001b[39m\u001b[33mvalue\u001b[39m\u001b[33m\"\u001b[39m}\n",
      "\u001b[31mTypeError\u001b[39m: unhashable type: 'list'"
     ]
    }
   ],
   "source": [
    "#map key to value\n",
    "print({\"key\":\"value\"})\n",
    "\n",
    "#value can be any datatype\n",
    "print({\"key\":True})\n",
    "print({\"items\":[1,2,'three', False]})\n",
    "\n",
    "#key has to be unique, can't be duplicates\n",
    "print({'name':'Alfredo', 'name':'Namo'})\n",
    "\n",
    "# key can't be list or dict\n",
    "{[1,2]:\"value\"}"
   ]
  },
  {
   "cell_type": "code",
   "execution_count": 87,
   "id": "02f99721",
   "metadata": {},
   "outputs": [
    {
     "name": "stdout",
     "output_type": "stream",
     "text": [
      "{}\n",
      "{}\n"
     ]
    },
    {
     "data": {
      "text/plain": [
       "{'name': 'Abhi', 'lname': 'jith'}"
      ]
     },
     "execution_count": 87,
     "metadata": {},
     "output_type": "execute_result"
    }
   ],
   "source": [
    "#with brackets and can have pre-seeded data\n",
    "contact_information = {}\n",
    "print(contact_information)\n",
    "contact_information = dict()\n",
    "print(contact_information)\n",
    "contact_information = {'name':'Abhi', 'lname':'jith'}\n",
    "contact_information"
   ]
  },
  {
   "cell_type": "code",
   "execution_count": 88,
   "id": "c370c177",
   "metadata": {},
   "outputs": [
    {
     "data": {
      "text/plain": [
       "{'num1': [1, 2, 3, 4], 'num2': [5, 6, 7, 8]}"
      ]
     },
     "execution_count": 88,
     "metadata": {},
     "output_type": "execute_result"
    }
   ],
   "source": [
    "#with dict and typle pairs\n",
    "data = [('num1', [1,2,3,4]), ('num2', [5,6,7,8])]\n",
    "dict(data)"
   ]
  },
  {
   "cell_type": "code",
   "execution_count": 89,
   "id": "f43d2312",
   "metadata": {},
   "outputs": [
    {
     "data": {
      "text/plain": [
       "{'first': [1, 2, 3, 4], 'second': [5, 6, 7, 8]}"
      ]
     },
     "execution_count": 89,
     "metadata": {},
     "output_type": "execute_result"
    }
   ],
   "source": [
    "#with dict() and keyword arguments\n",
    "dict(first=[1,2,3,4], second=[5,6,7,8])"
   ]
  },
  {
   "cell_type": "code",
   "execution_count": 90,
   "id": "35157b92",
   "metadata": {},
   "outputs": [],
   "source": [
    "#looping\n",
    "contact_information = {\n",
    "    'name':'Abhijith', \n",
    "    'lname':'Senthilkumar',\n",
    "    'age':25,\n",
    "    'height':1.75\n",
    "}"
   ]
  },
  {
   "cell_type": "code",
   "execution_count": 94,
   "id": "588dd14f",
   "metadata": {},
   "outputs": [
    {
     "name": "stdout",
     "output_type": "stream",
     "text": [
      "name\n",
      "lname\n",
      "age\n",
      "height\n",
      "name\n",
      "lname\n",
      "age\n",
      "height\n"
     ]
    }
   ],
   "source": [
    "#retrieving only keys by default\n",
    "for key in contact_information:\n",
    "    print(key)\n",
    "\n",
    "#or explicity\n",
    "for key in contact_information.keys():\n",
    "    print(key)"
   ]
  },
  {
   "cell_type": "code",
   "execution_count": 95,
   "id": "d6decda0",
   "metadata": {},
   "outputs": [
    {
     "name": "stdout",
     "output_type": "stream",
     "text": [
      "Abhijith\n",
      "Senthilkumar\n",
      "25\n",
      "1.75\n"
     ]
    }
   ],
   "source": [
    "#retrieve only values\n",
    "for value in contact_information.values():\n",
    "    print(value)"
   ]
  },
  {
   "cell_type": "code",
   "execution_count": null,
   "id": "3a0877fe",
   "metadata": {},
   "outputs": [
    {
     "name": "stdout",
     "output_type": "stream",
     "text": [
      "name -> Abhijith\n",
      "lname -> Senthilkumar\n",
      "age -> 25\n",
      "height -> 1.75\n"
     ]
    }
   ],
   "source": [
    "#retrieve both keys and values\n",
    "for key, value in contact_information.items(): #this method is called unpacking\n",
    "    print(f\"{key} -> {value}\")"
   ]
  },
  {
   "cell_type": "markdown",
   "id": "07d1cb27",
   "metadata": {},
   "source": [
    "### Tuples and Sets\n",
    "\n",
    "* **Tuples**\n",
    "\n",
    "  * Like a list, but **read-only** (immutable)\n",
    "  * Defined with **parentheses `()`** → e.g., `ro_items = (\"first\", \"second\", \"third\")`\n",
    "  * Ordered, supports **indexing** (positive and negative indices)\n",
    "  * Accessing an invalid index → **IndexError** (*tuple index out of range*)\n",
    "  * Using `.index()` on a non-existing item → **ValueError**\n",
    "  * Supports only two methods:\n",
    "\n",
    "    * `.count()` → count occurrences of an item\n",
    "    * `.index()` → get index of an item\n",
    "  * No modification methods (`append`, `pop`, etc. do not exist)\n",
    "  * Think of tuples as **read-only lists**\n",
    "\n",
    "* **Sets**\n",
    "\n",
    "  * Defined with **curly braces `{}`** but unlike dictionaries, **no key-value pairs**\n",
    "  * Collection of **unique items** (duplicates are automatically removed)\n",
    "  * Example: adding `\"1\"`, `\"1\"`, `\"1\"`, `\"2\"` → results in `{\"1\", \"2\"}`\n",
    "  * Supports adding items (e.g., `.add()`)\n",
    "  * `.pop()` works but does **not take arguments** → removes an arbitrary item (not index-based)\n",
    "  * Example: `s = {\"1\", \"2\"}` → `s.pop()` removes one item (order not guaranteed)\n",
    "  * After removing all, becomes an **empty set** `set()`\n",
    "  * Useful for maintaining **unique collections**\n",
    "\n",
    "* **Key differences**:\n",
    "\n",
    "  * **Tuple** → ordered, immutable, minimal methods\n",
    "  * **Set** → unordered, mutable, only unique elements, pop removes arbitrary item\n"
   ]
  },
  {
   "cell_type": "code",
   "execution_count": 100,
   "id": "1250dee2",
   "metadata": {},
   "outputs": [
    {
     "name": "stdout",
     "output_type": "stream",
     "text": [
      "1\n",
      "2\n",
      "3\n"
     ]
    }
   ],
   "source": [
    "#tuples are read only list\n",
    "items = (1, 2, 3)\n",
    "#print(\"first item in tuple is %s\" % items.index(1))\n",
    "#print(items[-1])\n",
    "for item in items:\n",
    "    print(item)"
   ]
  },
  {
   "cell_type": "code",
   "execution_count": 102,
   "id": "75541f3b",
   "metadata": {},
   "outputs": [
    {
     "ename": "IndexError",
     "evalue": "tuple index out of range",
     "output_type": "error",
     "traceback": [
      "\u001b[31m---------------------------------------------------------------------------\u001b[39m",
      "\u001b[31mIndexError\u001b[39m                                Traceback (most recent call last)",
      "\u001b[36mCell\u001b[39m\u001b[36m \u001b[39m\u001b[32mIn[102]\u001b[39m\u001b[32m, line 1\u001b[39m\n\u001b[32m----> \u001b[39m\u001b[32m1\u001b[39m \u001b[43mitems\u001b[49m\u001b[43m[\u001b[49m\u001b[32;43m3\u001b[39;49m\u001b[43m]\u001b[49m\n",
      "\u001b[31mIndexError\u001b[39m: tuple index out of range"
     ]
    }
   ],
   "source": [
    "items[3]"
   ]
  },
  {
   "cell_type": "code",
   "execution_count": 103,
   "id": "48cf3ebf",
   "metadata": {},
   "outputs": [
    {
     "data": {
      "text/plain": [
       "0"
      ]
     },
     "execution_count": 103,
     "metadata": {},
     "output_type": "execute_result"
    }
   ],
   "source": [
    "items.index(1)"
   ]
  },
  {
   "cell_type": "code",
   "execution_count": 105,
   "id": "8d97cdf8",
   "metadata": {},
   "outputs": [
    {
     "name": "stdout",
     "output_type": "stream",
     "text": [
      "count\n",
      "index\n"
     ]
    }
   ],
   "source": [
    "#to find what methods are available in a tuple\n",
    "for method in dir(tuple()):\n",
    "    if method.startswith('__'):\n",
    "        continue\n",
    "    print(method)"
   ]
  },
  {
   "cell_type": "code",
   "execution_count": 108,
   "id": "f9850973",
   "metadata": {},
   "outputs": [
    {
     "ename": "AttributeError",
     "evalue": "'tuple' object has no attribute 'append'",
     "output_type": "error",
     "traceback": [
      "\u001b[31m---------------------------------------------------------------------------\u001b[39m",
      "\u001b[31mAttributeError\u001b[39m                            Traceback (most recent call last)",
      "\u001b[36mCell\u001b[39m\u001b[36m \u001b[39m\u001b[32mIn[108]\u001b[39m\u001b[32m, line 2\u001b[39m\n\u001b[32m      1\u001b[39m \u001b[38;5;66;03m#tupes are immutable\u001b[39;00m\n\u001b[32m----> \u001b[39m\u001b[32m2\u001b[39m \u001b[43mitems\u001b[49m\u001b[43m.\u001b[49m\u001b[43mappend\u001b[49m(\u001b[33m'\u001b[39m\u001b[33ma\u001b[39m\u001b[33m'\u001b[39m)\n",
      "\u001b[31mAttributeError\u001b[39m: 'tuple' object has no attribute 'append'"
     ]
    }
   ],
   "source": [
    "#tupes are immutable\n",
    "items.append('a')"
   ]
  },
  {
   "cell_type": "code",
   "execution_count": 112,
   "id": "4456c155",
   "metadata": {},
   "outputs": [
    {
     "name": "stdout",
     "output_type": "stream",
     "text": [
      "add\n",
      "clear\n",
      "copy\n",
      "difference\n",
      "difference_update\n",
      "discard\n",
      "intersection\n",
      "intersection_update\n",
      "isdisjoint\n",
      "issubset\n",
      "issuperset\n",
      "pop\n",
      "remove\n",
      "symmetric_difference\n",
      "symmetric_difference_update\n",
      "union\n",
      "update\n"
     ]
    }
   ],
   "source": [
    "for method in dir(set):\n",
    "    if method.startswith('__'):\n",
    "        continue\n",
    "    print(method)"
   ]
  },
  {
   "cell_type": "code",
   "execution_count": 115,
   "id": "d5257e72",
   "metadata": {},
   "outputs": [
    {
     "data": {
      "text/plain": [
       "{'one'}"
      ]
     },
     "execution_count": 115,
     "metadata": {},
     "output_type": "execute_result"
    }
   ],
   "source": [
    "#sets are like lists, looks like dictionaries, but allows to keep unique items\n",
    "unique = set()\n",
    "#add  items with .add()\n",
    "unique.add('one')\n",
    "unique"
   ]
  },
  {
   "cell_type": "code",
   "execution_count": 123,
   "id": "9e982091",
   "metadata": {},
   "outputs": [
    {
     "data": {
      "text/plain": [
       "{'one', 'two'}"
      ]
     },
     "execution_count": 123,
     "metadata": {},
     "output_type": "execute_result"
    }
   ],
   "source": [
    "#sets are truly unique\n",
    "unique.add('one')\n",
    "unique.add('one')\n",
    "unique.add('one')\n",
    "unique.add('two')\n",
    "unique"
   ]
  },
  {
   "cell_type": "code",
   "execution_count": null,
   "id": "2c4ec551",
   "metadata": {},
   "outputs": [
    {
     "name": "stdout",
     "output_type": "stream",
     "text": [
      "{'two', 'one'}\n"
     ]
    }
   ],
   "source": [
    "#order do not matter with set\n",
    "print(unique)"
   ]
  },
  {
   "cell_type": "code",
   "execution_count": 122,
   "id": "a1ffcb66",
   "metadata": {},
   "outputs": [
    {
     "name": "stdout",
     "output_type": "stream",
     "text": [
      "{'two', 'one'}\n"
     ]
    },
    {
     "data": {
      "text/plain": [
       "{'two'}"
      ]
     },
     "execution_count": 122,
     "metadata": {},
     "output_type": "execute_result"
    }
   ],
   "source": [
    "#can pop items like in list, but takes no arguments and expels first index value\n",
    "print(unique)\n",
    "unique.pop()\n",
    "unique"
   ]
  },
  {
   "cell_type": "markdown",
   "id": "c61d1564",
   "metadata": {},
   "source": [
    "## Exercises\n",
    "\n",
    "*    Implement a phone book as a dictionary.\n",
    "\n",
    "*    Find the most frequent words in a text file using sets.\n",
    "\n",
    "*    Filter user-submitted comments stored in a list for profanity.\n",
    "\n",
    "*    Build a histogram from word counts using dictionaries.\n",
    "\n",
    "*    Convert a deeply nested list to a flat list."
   ]
  },
  {
   "cell_type": "code",
   "execution_count": 125,
   "id": "67049002",
   "metadata": {},
   "outputs": [
    {
     "data": {
      "text/plain": [
       "{1: 12345, 2: 23456, 3: 34567, 4: 45678}"
      ]
     },
     "execution_count": 125,
     "metadata": {},
     "output_type": "execute_result"
    }
   ],
   "source": [
    "#1\n",
    "data = [(1, 12345), (2, 23456), (3, 34567), (4, 45678)]\n",
    "phone_book = dict(data)\n",
    "phone_book"
   ]
  },
  {
   "cell_type": "code",
   "execution_count": 129,
   "id": "b7d6eefd",
   "metadata": {},
   "outputs": [
    {
     "name": "stdout",
     "output_type": "stream",
     "text": [
      "is 2\n",
      "a 2\n",
      "this 2\n",
      "test 4\n",
      "only 1\n"
     ]
    }
   ],
   "source": [
    "#2\n",
    "text = 'this is a test this is only a test test test'\n",
    "\n",
    "words = text.split()\n",
    "unique_words = set(words)\n",
    "\n",
    "for w in unique_words:\n",
    "    print(w, words.count(w))"
   ]
  },
  {
   "cell_type": "code",
   "execution_count": 130,
   "id": "df5daeeb",
   "metadata": {},
   "outputs": [],
   "source": [
    "#3\n",
    "comments = [\n",
    "    \"This is nice!\",\n",
    "    \"You are stupid\",\n",
    "    \"Great work\",\n",
    "    \"What a dumb idea\"\n",
    "]\n",
    "\n",
    "profanity = ('stupid', 'dumb')\n",
    "\n"
   ]
  },
  {
   "cell_type": "code",
   "execution_count": null,
   "id": "fa594aa5",
   "metadata": {},
   "outputs": [],
   "source": []
  },
  {
   "cell_type": "code",
   "execution_count": null,
   "id": "4105b6af",
   "metadata": {},
   "outputs": [],
   "source": []
  },
  {
   "cell_type": "code",
   "execution_count": 131,
   "id": "3af3a860",
   "metadata": {},
   "outputs": [
    {
     "data": {
      "text/plain": [
       "['apple', 'banana', 'mango']"
      ]
     },
     "execution_count": 131,
     "metadata": {},
     "output_type": "execute_result"
    }
   ],
   "source": [
    "#list comprehension\n",
    "\n",
    "#syntax - newlist = [*expression* for *item* in *iterable* if *condition* == True]\n",
    "\n",
    "fruits = ['apple', 'banana', 'cherry', 'kiwi', 'mango']\n",
    "newlist = [x for x in fruits if 'a' in x]\n",
    "newlist"
   ]
  },
  {
   "cell_type": "code",
   "execution_count": 132,
   "id": "e91b7d8d",
   "metadata": {},
   "outputs": [
    {
     "data": {
      "text/plain": [
       "['banana', 'cherry', 'kiwi', 'mango']"
      ]
     },
     "execution_count": 132,
     "metadata": {},
     "output_type": "execute_result"
    }
   ],
   "source": [
    "newlist = [x for x in fruits if x!='apple']\n",
    "newlist"
   ]
  },
  {
   "cell_type": "code",
   "execution_count": 133,
   "id": "7f425b58",
   "metadata": {},
   "outputs": [
    {
     "data": {
      "text/plain": [
       "['banana', 'mango']"
      ]
     },
     "execution_count": 133,
     "metadata": {},
     "output_type": "execute_result"
    }
   ],
   "source": [
    "newlist = [x for x in fruits if 'n' in x]\n",
    "newlist"
   ]
  },
  {
   "cell_type": "markdown",
   "id": "3f6d3623",
   "metadata": {},
   "source": [
    "## Exercises\n",
    "\n",
    "*    Create a dictionary mapping airport codes to locations\n",
    "\n",
    "*    Practice indexing and slicing on a list of your hobbies\n",
    "\n",
    "*    Try removing duplicates from a messy list with a set\n",
    "\n",
    "*    Search for an item in a tuple using a for loop\n",
    "\n",
    "*    Time membership checks on dict vs list with a large dataset"
   ]
  },
  {
   "cell_type": "code",
   "execution_count": null,
   "id": "e7366ea7",
   "metadata": {},
   "outputs": [],
   "source": []
  },
  {
   "cell_type": "markdown",
   "id": "e256fd3d",
   "metadata": {},
   "source": [
    "### Key Terms\n",
    "\n",
    "*    loop: A keyword used for an indefinite loop that runs forever until it is broken out of using a break statement or another control flow mechanism.\n",
    "\n",
    "*    if let: A construct allowing assignment and conditional execution based on the result of an expression, such as checking if an optional value contains a specific type (e.g., an integer).\n",
    "\n",
    "*    shadowing: The practice of redefining a variable with the same name in the same scope to take on new characteristics or values.\n",
    "\n",
    "*    type annotations: Explicitly specifying the data type for variables, expressions, and other elements within Rust code to ensure proper compilation and execution.\n",
    "\n",
    "*    option: A wrapper over an optional value that can contain either a concrete value (e.g., integer) or None.\n",
    "\n",
    "*    sum: An enum used as a wrapper over an option in the context of this lesson; it provides a convenient way to work with options, especially when combined with pattern matching and if let statements.\n",
    "\n",
    "*    while loop: A control flow mechanism that continues executing while a specific condition is met.\n",
    "\n",
    "*    for loop: A control flow mechanism used for iterating over sequences (e.g., ranges or vectors) in Rust.\n",
    "\n",
    "*    continue: A keyword allowing skipping to the next iteration of a loop when certain conditions are met, such as an odd number in this lesson's example.\n",
    "\n",
    "*    break: A keyword that allows breaking out of loops and other control flow mechanisms once specific criteria have been satisfied (e.g., finding a seven).\n",
    "\n",
    "*    Append - Adds an item to the end of a list\n",
    "\n",
    "*    Insert - Inserts an item at a specified index in a list\n",
    "\n",
    "*    Extend - Appends all items from one list onto another\n",
    "\n",
    "*    Pop - Removes and returns an item at a specified index\n",
    "\n",
    "*    Get - Safely gets a dictionary value falling back to a default"
   ]
  },
  {
   "cell_type": "code",
   "execution_count": 136,
   "id": "08785005",
   "metadata": {},
   "outputs": [
    {
     "data": {
      "text/plain": [
       "['orange', 'apple']"
      ]
     },
     "execution_count": 136,
     "metadata": {},
     "output_type": "execute_result"
    }
   ],
   "source": [
    "#Adding data to list\n",
    "\n",
    "fruits = []\n",
    "\n",
    "fruits.append(\"orange\")\n",
    "fruits.append(\"apple\")\n",
    "fruits"
   ]
  },
  {
   "cell_type": "code",
   "execution_count": 138,
   "id": "73fad618",
   "metadata": {},
   "outputs": [
    {
     "data": {
      "text/plain": [
       "['melon', 'melon', 'orange', 'apple']"
      ]
     },
     "execution_count": 138,
     "metadata": {},
     "output_type": "execute_result"
    }
   ],
   "source": [
    "#insert method to insert object to a certain index, and index required.\n",
    "fruits.insert(0, \"melon\")\n",
    "fruits"
   ]
  },
  {
   "cell_type": "code",
   "execution_count": 140,
   "id": "7439bab3",
   "metadata": {},
   "outputs": [
    {
     "data": {
      "text/plain": [
       "['melon', 'melon', 'orange', 'apple', 'cucumber', 'carrots']"
      ]
     },
     "execution_count": 140,
     "metadata": {},
     "output_type": "execute_result"
    }
   ],
   "source": [
    "#can add two lists together\n",
    "vegetables = [\"cucumber\", \"carrots\"]\n",
    "fruits+vegetables"
   ]
  },
  {
   "cell_type": "code",
   "execution_count": 142,
   "id": "bac475f6",
   "metadata": {},
   "outputs": [
    {
     "data": {
      "text/plain": [
       "['melon', 'melon', 'orange', 'apple', 'cucumber', 'carrots', ['sugar', 'salt']]"
      ]
     },
     "execution_count": 142,
     "metadata": {},
     "output_type": "execute_result"
    }
   ],
   "source": [
    "#appending list to existing list\n",
    "shopping_list = fruits+vegetables\n",
    "#this will create list into a list\n",
    "shopping_list.append(['sugar', 'salt'])\n",
    "shopping_list\n"
   ]
  },
  {
   "cell_type": "code",
   "execution_count": 143,
   "id": "5f24ef10",
   "metadata": {},
   "outputs": [
    {
     "data": {
      "text/plain": [
       "['melon', 'melon', 'orange', 'apple', 'cucumber', 'carrots', 'sugar', 'salt']"
      ]
     },
     "execution_count": 143,
     "metadata": {},
     "output_type": "execute_result"
    }
   ],
   "source": [
    "#this is how to extend without adding as antoher list\n",
    "shopping_list = fruits+vegetables\n",
    "shopping_list.extend(['sugar', 'salt'])\n",
    "shopping_list"
   ]
  },
  {
   "cell_type": "code",
   "execution_count": 144,
   "id": "e8e82f2c",
   "metadata": {},
   "outputs": [
    {
     "data": {
      "text/plain": [
       "'red'"
      ]
     },
     "execution_count": 144,
     "metadata": {},
     "output_type": "execute_result"
    }
   ],
   "source": [
    "#Data extraction\n",
    "colors = ['red', 'yellow', 'green', 'blue']\n",
    "\n",
    "colors[0]"
   ]
  },
  {
   "cell_type": "code",
   "execution_count": 145,
   "id": "788fe182",
   "metadata": {},
   "outputs": [
    {
     "data": {
      "text/plain": [
       "['red', 'yellow', 'green']"
      ]
     },
     "execution_count": 145,
     "metadata": {},
     "output_type": "execute_result"
    }
   ],
   "source": [
    "#slicing for first three items (or any num)\n",
    "colors[:3]"
   ]
  },
  {
   "cell_type": "code",
   "execution_count": 148,
   "id": "6e3069ba",
   "metadata": {},
   "outputs": [
    {
     "data": {
      "text/plain": [
       "['green', 'blue']"
      ]
     },
     "execution_count": 148,
     "metadata": {},
     "output_type": "execute_result"
    }
   ],
   "source": [
    "#slicing for last two items\n",
    "colors[-2:]"
   ]
  },
  {
   "cell_type": "code",
   "execution_count": 150,
   "id": "81d72e86",
   "metadata": {},
   "outputs": [
    {
     "data": {
      "text/plain": [
       "['yellow', 'green']"
      ]
     },
     "execution_count": 150,
     "metadata": {},
     "output_type": "execute_result"
    }
   ],
   "source": [
    "#slicing for range\n",
    "colors[1:3]"
   ]
  },
  {
   "cell_type": "code",
   "execution_count": 151,
   "id": "b8d4c5f6",
   "metadata": {},
   "outputs": [
    {
     "data": {
      "text/plain": [
       "'green'"
      ]
     },
     "execution_count": 151,
     "metadata": {},
     "output_type": "execute_result"
    }
   ],
   "source": [
    "#popping to retrieve item and removing from list\n",
    "#but index must exist\n",
    "colors.pop(2)"
   ]
  },
  {
   "cell_type": "code",
   "execution_count": 152,
   "id": "366f09cb",
   "metadata": {},
   "outputs": [
    {
     "data": {
      "text/plain": [
       "['red', 'yellow', 'blue']"
      ]
     },
     "execution_count": 152,
     "metadata": {},
     "output_type": "execute_result"
    }
   ],
   "source": [
    "colors"
   ]
  },
  {
   "cell_type": "code",
   "execution_count": 153,
   "id": "e43507e3",
   "metadata": {},
   "outputs": [
    {
     "data": {
      "text/plain": [
       "['red', 'yellow']"
      ]
     },
     "execution_count": 153,
     "metadata": {},
     "output_type": "execute_result"
    }
   ],
   "source": [
    "#removing items\n",
    "colors.remove('blue')\n",
    "colors"
   ]
  },
  {
   "cell_type": "code",
   "execution_count": null,
   "id": "7a2a9ccf",
   "metadata": {},
   "outputs": [],
   "source": [
    "#Extracting data from dictionary\n"
   ]
  }
 ],
 "metadata": {
  "kernelspec": {
   "display_name": "ml_venv",
   "language": "python",
   "name": "python3"
  },
  "language_info": {
   "codemirror_mode": {
    "name": "ipython",
    "version": 3
   },
   "file_extension": ".py",
   "mimetype": "text/x-python",
   "name": "python",
   "nbconvert_exporter": "python",
   "pygments_lexer": "ipython3",
   "version": "3.12.3"
  }
 },
 "nbformat": 4,
 "nbformat_minor": 5
}
