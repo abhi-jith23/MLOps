{
 "cells": [
  {
   "cell_type": "markdown",
   "id": "9c0b864f",
   "metadata": {},
   "source": [
    "# Key Terms\n",
    "\n",
    "*    MLOps - Combination of DevOps-style automation methods and ML best practices focused on deployment and operations of ML models into production systems.\n",
    "\n",
    "*    DevOps - Culture of collaboration and automation of developer operations to continuously improve deployment and reduce friction between business units. Includes automation tools and principles like CI/CD.\n",
    "\n",
    "*    CI/CD - Continuous integration and continuous delivery - key practices in DevOps workflows. CI involves regular automated testing and validation of incrementally-built software while CD focuses on automatically releasing updates to environments like production.\n",
    "\n",
    "*    Maturity Model - Concept in MLOps defining ascending levels, typically 4-5, of MLOps sophistication and effectiveness, from manual, siloed, unreliable to scalable, autonomous, and resilient systems.\n",
    "\n",
    "*    Data Ops - Specific focus on use of DevOps concepts and automation principles to manage data workloads like aggregation, transformation, storage, analysis, etc.\n",
    "\n",
    "*    Feature Store - Central repository to manage, store, and serve ML features for model building and retraining. Optimizes data pipelines and reuse."
   ]
  },
  {
   "cell_type": "markdown",
   "id": "bcf980e6",
   "metadata": {},
   "source": [
    "## Notes\n",
    "\n",
    "MLOps revolves around Kaizen, where you look for constant and continuous improvemnet of something (famously applied with Japanese Automobile Industry)\n",
    "\n",
    "25% going to be devops, 25% going to be data operations (automating data), 25% going to be around improving modelling, 25% going to be around framing or looking at the business requirements. \n",
    "\n"
   ]
  },
  {
   "cell_type": "markdown",
   "id": "086fda49",
   "metadata": {},
   "source": []
  }
 ],
 "metadata": {
  "language_info": {
   "name": "python"
  }
 },
 "nbformat": 4,
 "nbformat_minor": 5
}
